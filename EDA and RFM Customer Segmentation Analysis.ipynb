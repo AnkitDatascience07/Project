{
 "cells": [
  {
   "cell_type": "markdown",
   "id": "f75292c5-bc6d-4d9c-a934-d04a8d8fa152",
   "metadata": {},
   "source": [
    "# EDA and RFM Customer Segmentation Analysis"
   ]
  },
  {
   "cell_type": "markdown",
   "id": "2445747b-a975-4cfb-bf06-577867a1783d",
   "metadata": {},
   "source": [
    "### Project Overview\n",
    "This project presents a comprehensive analysis of the Online Retail Dataset, focusing on Exploratory Data Analysis (EDA) and RFM (Recency, Frequency, Monetary) customer segmentation. The dataset contains transactional data from a UK-based online retail company operating between December 2010 and December 2011.\n",
    "\n",
    "### Key Objectives:\n",
    "- Conduct thorough exploratory data analysis to understand sales patterns, customer behavior, and product performance\n",
    "- Implement RFM analysis to segment customers based on their purchasing behavior\n",
    "- Generate actionable business insights to support data-driven decision making\n",
    "- Identify opportunities for customer retention and revenue optimization\n",
    "\n"
   ]
  },
  {
   "cell_type": "markdown",
   "id": "14f3e19e-9b51-407e-9253-1792bdb0c12d",
   "metadata": {},
   "source": [
    "### Importing Dependencies "
   ]
  },
  {
   "cell_type": "code",
   "execution_count": 107,
   "id": "f4ce96fe-cf5e-4014-b2e0-ab393349fcb0",
   "metadata": {},
   "outputs": [],
   "source": [
    "import pandas as pd\n",
    "import numpy as np\n",
    "import matplotlib.pyplot as plt\n",
    "import seaborn as sns\n",
    "import plotly.express as px\n",
    "import warnings\n",
    "warnings.filterwarnings('ignore')\n",
    "\n",
    "# Set display options for better readability\n",
    "pd.set_option('display.max_columns', None)\n",
    "pd.set_option('display.width', None)\n",
    "\n",
    "import datetime as dt\n"
   ]
  },
  {
   "cell_type": "code",
   "execution_count": 5,
   "id": "68acd154-a51f-4744-910e-a6b6124107c3",
   "metadata": {},
   "outputs": [
    {
     "data": {
      "text/html": [
       "<div>\n",
       "<style scoped>\n",
       "    .dataframe tbody tr th:only-of-type {\n",
       "        vertical-align: middle;\n",
       "    }\n",
       "\n",
       "    .dataframe tbody tr th {\n",
       "        vertical-align: top;\n",
       "    }\n",
       "\n",
       "    .dataframe thead th {\n",
       "        text-align: right;\n",
       "    }\n",
       "</style>\n",
       "<table border=\"1\" class=\"dataframe\">\n",
       "  <thead>\n",
       "    <tr style=\"text-align: right;\">\n",
       "      <th></th>\n",
       "      <th>InvoiceNo</th>\n",
       "      <th>StockCode</th>\n",
       "      <th>Description</th>\n",
       "      <th>Quantity</th>\n",
       "      <th>InvoiceDate</th>\n",
       "      <th>UnitPrice</th>\n",
       "      <th>CustomerID</th>\n",
       "      <th>Country</th>\n",
       "    </tr>\n",
       "  </thead>\n",
       "  <tbody>\n",
       "    <tr>\n",
       "      <th>0</th>\n",
       "      <td>536365</td>\n",
       "      <td>85123A</td>\n",
       "      <td>WHITE HANGING HEART T-LIGHT HOLDER</td>\n",
       "      <td>6</td>\n",
       "      <td>01-12-2010 08:26</td>\n",
       "      <td>2.55</td>\n",
       "      <td>17850.0</td>\n",
       "      <td>United Kingdom</td>\n",
       "    </tr>\n",
       "    <tr>\n",
       "      <th>1</th>\n",
       "      <td>536365</td>\n",
       "      <td>71053</td>\n",
       "      <td>WHITE METAL LANTERN</td>\n",
       "      <td>6</td>\n",
       "      <td>01-12-2010 08:26</td>\n",
       "      <td>3.39</td>\n",
       "      <td>17850.0</td>\n",
       "      <td>United Kingdom</td>\n",
       "    </tr>\n",
       "    <tr>\n",
       "      <th>2</th>\n",
       "      <td>536365</td>\n",
       "      <td>84406B</td>\n",
       "      <td>CREAM CUPID HEARTS COAT HANGER</td>\n",
       "      <td>8</td>\n",
       "      <td>01-12-2010 08:26</td>\n",
       "      <td>2.75</td>\n",
       "      <td>17850.0</td>\n",
       "      <td>United Kingdom</td>\n",
       "    </tr>\n",
       "    <tr>\n",
       "      <th>3</th>\n",
       "      <td>536365</td>\n",
       "      <td>84029G</td>\n",
       "      <td>KNITTED UNION FLAG HOT WATER BOTTLE</td>\n",
       "      <td>6</td>\n",
       "      <td>01-12-2010 08:26</td>\n",
       "      <td>3.39</td>\n",
       "      <td>17850.0</td>\n",
       "      <td>United Kingdom</td>\n",
       "    </tr>\n",
       "    <tr>\n",
       "      <th>4</th>\n",
       "      <td>536365</td>\n",
       "      <td>84029E</td>\n",
       "      <td>RED WOOLLY HOTTIE WHITE HEART.</td>\n",
       "      <td>6</td>\n",
       "      <td>01-12-2010 08:26</td>\n",
       "      <td>3.39</td>\n",
       "      <td>17850.0</td>\n",
       "      <td>United Kingdom</td>\n",
       "    </tr>\n",
       "  </tbody>\n",
       "</table>\n",
       "</div>"
      ],
      "text/plain": [
       "  InvoiceNo StockCode                          Description  Quantity  \\\n",
       "0    536365    85123A   WHITE HANGING HEART T-LIGHT HOLDER         6   \n",
       "1    536365     71053                  WHITE METAL LANTERN         6   \n",
       "2    536365    84406B       CREAM CUPID HEARTS COAT HANGER         8   \n",
       "3    536365    84029G  KNITTED UNION FLAG HOT WATER BOTTLE         6   \n",
       "4    536365    84029E       RED WOOLLY HOTTIE WHITE HEART.         6   \n",
       "\n",
       "        InvoiceDate  UnitPrice  CustomerID         Country  \n",
       "0  01-12-2010 08:26       2.55     17850.0  United Kingdom  \n",
       "1  01-12-2010 08:26       3.39     17850.0  United Kingdom  \n",
       "2  01-12-2010 08:26       2.75     17850.0  United Kingdom  \n",
       "3  01-12-2010 08:26       3.39     17850.0  United Kingdom  \n",
       "4  01-12-2010 08:26       3.39     17850.0  United Kingdom  "
      ]
     },
     "execution_count": 5,
     "metadata": {},
     "output_type": "execute_result"
    }
   ],
   "source": [
    "# Loading Dataset \n",
    "\n",
    "df = pd.read_csv(r\"C:\\Users\\Ankit\\Desktop\\DATA PROJECTS\\Online Retail RFM Analysis\\Online Retail.csv\", encoding = 'latin1')\n",
    "df.head()"
   ]
  },
  {
   "cell_type": "markdown",
   "id": "27524a78-f03b-4d60-b6bb-d17ff365f5d1",
   "metadata": {},
   "source": [
    "# Exploring Dataset"
   ]
  },
  {
   "cell_type": "code",
   "execution_count": 8,
   "id": "91f40e28-2cd1-4f0e-8d29-8fe40fe882c4",
   "metadata": {},
   "outputs": [
    {
     "name": "stdout",
     "output_type": "stream",
     "text": [
      "Number of rows in the dataset :  541909\n",
      "Number of columns in the dataset :  8\n"
     ]
    }
   ],
   "source": [
    "print(\"Number of rows in the dataset : \", df.shape[0])\n",
    "print(\"Number of columns in the dataset : \", df.shape[1])"
   ]
  },
  {
   "cell_type": "code",
   "execution_count": 9,
   "id": "c4dddd46-0471-4a46-96ad-29a3e2c3e969",
   "metadata": {},
   "outputs": [
    {
     "name": "stdout",
     "output_type": "stream",
     "text": [
      "<class 'pandas.core.frame.DataFrame'>\n",
      "RangeIndex: 541909 entries, 0 to 541908\n",
      "Data columns (total 8 columns):\n",
      " #   Column       Non-Null Count   Dtype  \n",
      "---  ------       --------------   -----  \n",
      " 0   InvoiceNo    541909 non-null  object \n",
      " 1   StockCode    541909 non-null  object \n",
      " 2   Description  540455 non-null  object \n",
      " 3   Quantity     541909 non-null  int64  \n",
      " 4   InvoiceDate  541909 non-null  object \n",
      " 5   UnitPrice    541909 non-null  float64\n",
      " 6   CustomerID   406829 non-null  float64\n",
      " 7   Country      541909 non-null  object \n",
      "dtypes: float64(2), int64(1), object(5)\n",
      "memory usage: 33.1+ MB\n"
     ]
    }
   ],
   "source": [
    "df.info()"
   ]
  },
  {
   "cell_type": "code",
   "execution_count": 11,
   "id": "00417dcf-1167-4f9c-9e5b-c184bdb460a3",
   "metadata": {},
   "outputs": [
    {
     "name": "stdout",
     "output_type": "stream",
     "text": [
      "Number of unique customer IDs:  4373\n"
     ]
    }
   ],
   "source": [
    "print(\"Number of unique customer IDs: \", len(df['CustomerID'].unique().tolist()))"
   ]
  },
  {
   "cell_type": "markdown",
   "id": "f5f1ca09-3f7b-400e-b45f-40443ebf88cf",
   "metadata": {},
   "source": [
    "#### For purpose of Customer Segmentation missing ids will be dropped. \n",
    "From descriptive statistics of quantitative variables (Quantity and UnitPrice), we could see that there are negative values in these variables, which are not possible values for price and quantity.\n",
    "\n"
   ]
  },
  {
   "cell_type": "code",
   "execution_count": 13,
   "id": "666c7590-db35-4ca6-9e9b-0e8fb0909cda",
   "metadata": {},
   "outputs": [
    {
     "data": {
      "text/html": [
       "<div>\n",
       "<style scoped>\n",
       "    .dataframe tbody tr th:only-of-type {\n",
       "        vertical-align: middle;\n",
       "    }\n",
       "\n",
       "    .dataframe tbody tr th {\n",
       "        vertical-align: top;\n",
       "    }\n",
       "\n",
       "    .dataframe thead th {\n",
       "        text-align: right;\n",
       "    }\n",
       "</style>\n",
       "<table border=\"1\" class=\"dataframe\">\n",
       "  <thead>\n",
       "    <tr style=\"text-align: right;\">\n",
       "      <th></th>\n",
       "      <th>Quantity</th>\n",
       "      <th>UnitPrice</th>\n",
       "      <th>CustomerID</th>\n",
       "    </tr>\n",
       "  </thead>\n",
       "  <tbody>\n",
       "    <tr>\n",
       "      <th>count</th>\n",
       "      <td>541909.000000</td>\n",
       "      <td>541909.000000</td>\n",
       "      <td>406829.000000</td>\n",
       "    </tr>\n",
       "    <tr>\n",
       "      <th>mean</th>\n",
       "      <td>9.552250</td>\n",
       "      <td>4.611114</td>\n",
       "      <td>15287.690570</td>\n",
       "    </tr>\n",
       "    <tr>\n",
       "      <th>std</th>\n",
       "      <td>218.081158</td>\n",
       "      <td>96.759853</td>\n",
       "      <td>1713.600303</td>\n",
       "    </tr>\n",
       "    <tr>\n",
       "      <th>min</th>\n",
       "      <td>-80995.000000</td>\n",
       "      <td>-11062.060000</td>\n",
       "      <td>12346.000000</td>\n",
       "    </tr>\n",
       "    <tr>\n",
       "      <th>25%</th>\n",
       "      <td>1.000000</td>\n",
       "      <td>1.250000</td>\n",
       "      <td>13953.000000</td>\n",
       "    </tr>\n",
       "    <tr>\n",
       "      <th>50%</th>\n",
       "      <td>3.000000</td>\n",
       "      <td>2.080000</td>\n",
       "      <td>15152.000000</td>\n",
       "    </tr>\n",
       "    <tr>\n",
       "      <th>75%</th>\n",
       "      <td>10.000000</td>\n",
       "      <td>4.130000</td>\n",
       "      <td>16791.000000</td>\n",
       "    </tr>\n",
       "    <tr>\n",
       "      <th>max</th>\n",
       "      <td>80995.000000</td>\n",
       "      <td>38970.000000</td>\n",
       "      <td>18287.000000</td>\n",
       "    </tr>\n",
       "  </tbody>\n",
       "</table>\n",
       "</div>"
      ],
      "text/plain": [
       "            Quantity      UnitPrice     CustomerID\n",
       "count  541909.000000  541909.000000  406829.000000\n",
       "mean        9.552250       4.611114   15287.690570\n",
       "std       218.081158      96.759853    1713.600303\n",
       "min    -80995.000000  -11062.060000   12346.000000\n",
       "25%         1.000000       1.250000   13953.000000\n",
       "50%         3.000000       2.080000   15152.000000\n",
       "75%        10.000000       4.130000   16791.000000\n",
       "max     80995.000000   38970.000000   18287.000000"
      ]
     },
     "execution_count": 13,
     "metadata": {},
     "output_type": "execute_result"
    }
   ],
   "source": [
    "df.describe()"
   ]
  },
  {
   "cell_type": "markdown",
   "id": "3a55f091-c0bb-4a37-8ac7-fc259d35e52b",
   "metadata": {},
   "source": [
    "#### Understanding Negative Values\n",
    "\n",
    "Let's examine the negative values in these variables. According to the dataset documentation, these represent canceled transactions indicated by invoice numbers starting with letter 'C'. The negative quantities likely correspond to product returns or order cancellations rather than data errors.\n",
    "\n"
   ]
  },
  {
   "cell_type": "code",
   "execution_count": 14,
   "id": "4b1010fc-368b-4ffa-b488-0baa5a726733",
   "metadata": {},
   "outputs": [
    {
     "data": {
      "text/html": [
       "<div>\n",
       "<style scoped>\n",
       "    .dataframe tbody tr th:only-of-type {\n",
       "        vertical-align: middle;\n",
       "    }\n",
       "\n",
       "    .dataframe tbody tr th {\n",
       "        vertical-align: top;\n",
       "    }\n",
       "\n",
       "    .dataframe thead th {\n",
       "        text-align: right;\n",
       "    }\n",
       "</style>\n",
       "<table border=\"1\" class=\"dataframe\">\n",
       "  <thead>\n",
       "    <tr style=\"text-align: right;\">\n",
       "      <th></th>\n",
       "      <th>InvoiceNo</th>\n",
       "      <th>StockCode</th>\n",
       "      <th>Description</th>\n",
       "      <th>Quantity</th>\n",
       "      <th>InvoiceDate</th>\n",
       "      <th>UnitPrice</th>\n",
       "      <th>CustomerID</th>\n",
       "      <th>Country</th>\n",
       "    </tr>\n",
       "  </thead>\n",
       "  <tbody>\n",
       "    <tr>\n",
       "      <th>141</th>\n",
       "      <td>C536379</td>\n",
       "      <td>D</td>\n",
       "      <td>Discount</td>\n",
       "      <td>-1</td>\n",
       "      <td>01-12-2010 09:41</td>\n",
       "      <td>27.50</td>\n",
       "      <td>14527.0</td>\n",
       "      <td>United Kingdom</td>\n",
       "    </tr>\n",
       "    <tr>\n",
       "      <th>154</th>\n",
       "      <td>C536383</td>\n",
       "      <td>35004C</td>\n",
       "      <td>SET OF 3 COLOURED  FLYING DUCKS</td>\n",
       "      <td>-1</td>\n",
       "      <td>01-12-2010 09:49</td>\n",
       "      <td>4.65</td>\n",
       "      <td>15311.0</td>\n",
       "      <td>United Kingdom</td>\n",
       "    </tr>\n",
       "    <tr>\n",
       "      <th>235</th>\n",
       "      <td>C536391</td>\n",
       "      <td>22556</td>\n",
       "      <td>PLASTERS IN TIN CIRCUS PARADE</td>\n",
       "      <td>-12</td>\n",
       "      <td>01-12-2010 10:24</td>\n",
       "      <td>1.65</td>\n",
       "      <td>17548.0</td>\n",
       "      <td>United Kingdom</td>\n",
       "    </tr>\n",
       "    <tr>\n",
       "      <th>236</th>\n",
       "      <td>C536391</td>\n",
       "      <td>21984</td>\n",
       "      <td>PACK OF 12 PINK PAISLEY TISSUES</td>\n",
       "      <td>-24</td>\n",
       "      <td>01-12-2010 10:24</td>\n",
       "      <td>0.29</td>\n",
       "      <td>17548.0</td>\n",
       "      <td>United Kingdom</td>\n",
       "    </tr>\n",
       "    <tr>\n",
       "      <th>237</th>\n",
       "      <td>C536391</td>\n",
       "      <td>21983</td>\n",
       "      <td>PACK OF 12 BLUE PAISLEY TISSUES</td>\n",
       "      <td>-24</td>\n",
       "      <td>01-12-2010 10:24</td>\n",
       "      <td>0.29</td>\n",
       "      <td>17548.0</td>\n",
       "      <td>United Kingdom</td>\n",
       "    </tr>\n",
       "  </tbody>\n",
       "</table>\n",
       "</div>"
      ],
      "text/plain": [
       "    InvoiceNo StockCode                       Description  Quantity  \\\n",
       "141   C536379         D                          Discount        -1   \n",
       "154   C536383    35004C   SET OF 3 COLOURED  FLYING DUCKS        -1   \n",
       "235   C536391     22556    PLASTERS IN TIN CIRCUS PARADE        -12   \n",
       "236   C536391     21984  PACK OF 12 PINK PAISLEY TISSUES        -24   \n",
       "237   C536391     21983  PACK OF 12 BLUE PAISLEY TISSUES        -24   \n",
       "\n",
       "          InvoiceDate  UnitPrice  CustomerID         Country  \n",
       "141  01-12-2010 09:41      27.50     14527.0  United Kingdom  \n",
       "154  01-12-2010 09:49       4.65     15311.0  United Kingdom  \n",
       "235  01-12-2010 10:24       1.65     17548.0  United Kingdom  \n",
       "236  01-12-2010 10:24       0.29     17548.0  United Kingdom  \n",
       "237  01-12-2010 10:24       0.29     17548.0  United Kingdom  "
      ]
     },
     "execution_count": 14,
     "metadata": {},
     "output_type": "execute_result"
    }
   ],
   "source": [
    "# Filtering transaction with invoice number started with letter 'C':\n",
    "\n",
    "cancelled = df[df[\"InvoiceNo\"].astype(str).str.contains(\"C\")]\n",
    "cancelled.head()"
   ]
  },
  {
   "cell_type": "markdown",
   "id": "4d18ac36-5cf4-4658-b97a-98d2b5eece12",
   "metadata": {},
   "source": [
    "Among Cancelled transactions there are not any transactions with positive quantity"
   ]
  },
  {
   "cell_type": "code",
   "execution_count": 16,
   "id": "83d27e0a-0b03-4514-a84b-97bf3195b343",
   "metadata": {},
   "outputs": [
    {
     "data": {
      "text/html": [
       "<div>\n",
       "<style scoped>\n",
       "    .dataframe tbody tr th:only-of-type {\n",
       "        vertical-align: middle;\n",
       "    }\n",
       "\n",
       "    .dataframe tbody tr th {\n",
       "        vertical-align: top;\n",
       "    }\n",
       "\n",
       "    .dataframe thead th {\n",
       "        text-align: right;\n",
       "    }\n",
       "</style>\n",
       "<table border=\"1\" class=\"dataframe\">\n",
       "  <thead>\n",
       "    <tr style=\"text-align: right;\">\n",
       "      <th></th>\n",
       "      <th>InvoiceNo</th>\n",
       "      <th>StockCode</th>\n",
       "      <th>Description</th>\n",
       "      <th>Quantity</th>\n",
       "      <th>InvoiceDate</th>\n",
       "      <th>UnitPrice</th>\n",
       "      <th>CustomerID</th>\n",
       "      <th>Country</th>\n",
       "    </tr>\n",
       "  </thead>\n",
       "  <tbody>\n",
       "  </tbody>\n",
       "</table>\n",
       "</div>"
      ],
      "text/plain": [
       "Empty DataFrame\n",
       "Columns: [InvoiceNo, StockCode, Description, Quantity, InvoiceDate, UnitPrice, CustomerID, Country]\n",
       "Index: []"
      ]
     },
     "execution_count": 16,
     "metadata": {},
     "output_type": "execute_result"
    }
   ],
   "source": [
    "cancelled[cancelled['Quantity'] > 0] \n"
   ]
  },
  {
   "cell_type": "markdown",
   "id": "d529aecc-572b-4840-b704-096e91c0db38",
   "metadata": {},
   "source": [
    "However some transactions with negative quantity does not belong to cancelled : "
   ]
  },
  {
   "cell_type": "code",
   "execution_count": 18,
   "id": "65ac3526-18c7-4393-8f04-db8cd5acb825",
   "metadata": {},
   "outputs": [
    {
     "name": "stdout",
     "output_type": "stream",
     "text": [
      "Number of cancelled transactions: 9288\n",
      "Total number of transaction with negative quantity: 10624\n"
     ]
    }
   ],
   "source": [
    "print(\"Number of cancelled transactions:\", len(cancelled))\n",
    "print(\"Total number of transaction with negative quantity:\", df[df['Quantity'] <= 0 ]['Quantity'].count())"
   ]
  },
  {
   "cell_type": "markdown",
   "id": "579f2543-8155-4ca8-a71e-d644966d81df",
   "metadata": {},
   "source": [
    "The dataset also contains transactions with zero unit price. These zero-price transactions do not contribute meaningful information to our analysis, as they typically lack proper product descriptions and may represent system errors or incomplete records. Therefore, these transactions should be removed to ensure data quality and analytical accuracy.\n",
    "\n"
   ]
  },
  {
   "cell_type": "code",
   "execution_count": 19,
   "id": "9f2f0e10-d483-44b8-9f68-69ddfe706098",
   "metadata": {},
   "outputs": [
    {
     "data": {
      "text/html": [
       "<div>\n",
       "<style scoped>\n",
       "    .dataframe tbody tr th:only-of-type {\n",
       "        vertical-align: middle;\n",
       "    }\n",
       "\n",
       "    .dataframe tbody tr th {\n",
       "        vertical-align: top;\n",
       "    }\n",
       "\n",
       "    .dataframe thead th {\n",
       "        text-align: right;\n",
       "    }\n",
       "</style>\n",
       "<table border=\"1\" class=\"dataframe\">\n",
       "  <thead>\n",
       "    <tr style=\"text-align: right;\">\n",
       "      <th></th>\n",
       "      <th>InvoiceNo</th>\n",
       "      <th>StockCode</th>\n",
       "      <th>Description</th>\n",
       "      <th>Quantity</th>\n",
       "      <th>InvoiceDate</th>\n",
       "      <th>UnitPrice</th>\n",
       "      <th>CustomerID</th>\n",
       "      <th>Country</th>\n",
       "    </tr>\n",
       "  </thead>\n",
       "  <tbody>\n",
       "    <tr>\n",
       "      <th>622</th>\n",
       "      <td>536414</td>\n",
       "      <td>22139</td>\n",
       "      <td>NaN</td>\n",
       "      <td>56</td>\n",
       "      <td>01-12-2010 11:52</td>\n",
       "      <td>0.0</td>\n",
       "      <td>NaN</td>\n",
       "      <td>United Kingdom</td>\n",
       "    </tr>\n",
       "    <tr>\n",
       "      <th>1970</th>\n",
       "      <td>536545</td>\n",
       "      <td>21134</td>\n",
       "      <td>NaN</td>\n",
       "      <td>1</td>\n",
       "      <td>01-12-2010 14:32</td>\n",
       "      <td>0.0</td>\n",
       "      <td>NaN</td>\n",
       "      <td>United Kingdom</td>\n",
       "    </tr>\n",
       "    <tr>\n",
       "      <th>1971</th>\n",
       "      <td>536546</td>\n",
       "      <td>22145</td>\n",
       "      <td>NaN</td>\n",
       "      <td>1</td>\n",
       "      <td>01-12-2010 14:33</td>\n",
       "      <td>0.0</td>\n",
       "      <td>NaN</td>\n",
       "      <td>United Kingdom</td>\n",
       "    </tr>\n",
       "    <tr>\n",
       "      <th>1972</th>\n",
       "      <td>536547</td>\n",
       "      <td>37509</td>\n",
       "      <td>NaN</td>\n",
       "      <td>1</td>\n",
       "      <td>01-12-2010 14:33</td>\n",
       "      <td>0.0</td>\n",
       "      <td>NaN</td>\n",
       "      <td>United Kingdom</td>\n",
       "    </tr>\n",
       "    <tr>\n",
       "      <th>1987</th>\n",
       "      <td>536549</td>\n",
       "      <td>85226A</td>\n",
       "      <td>NaN</td>\n",
       "      <td>1</td>\n",
       "      <td>01-12-2010 14:34</td>\n",
       "      <td>0.0</td>\n",
       "      <td>NaN</td>\n",
       "      <td>United Kingdom</td>\n",
       "    </tr>\n",
       "  </tbody>\n",
       "</table>\n",
       "</div>"
      ],
      "text/plain": [
       "     InvoiceNo StockCode Description  Quantity       InvoiceDate  UnitPrice  \\\n",
       "622     536414     22139         NaN        56  01-12-2010 11:52        0.0   \n",
       "1970    536545     21134         NaN         1  01-12-2010 14:32        0.0   \n",
       "1971    536546     22145         NaN         1  01-12-2010 14:33        0.0   \n",
       "1972    536547     37509         NaN         1  01-12-2010 14:33        0.0   \n",
       "1987    536549    85226A         NaN         1  01-12-2010 14:34        0.0   \n",
       "\n",
       "      CustomerID         Country  \n",
       "622          NaN  United Kingdom  \n",
       "1970         NaN  United Kingdom  \n",
       "1971         NaN  United Kingdom  \n",
       "1972         NaN  United Kingdom  \n",
       "1987         NaN  United Kingdom  "
      ]
     },
     "execution_count": 19,
     "metadata": {},
     "output_type": "execute_result"
    }
   ],
   "source": [
    "df[df[\"UnitPrice\"] == 0].head()"
   ]
  },
  {
   "cell_type": "markdown",
   "id": "6d436894-6763-489e-9eb3-443f62704728",
   "metadata": {},
   "source": [
    "Also there are 2 transactions with negative price. From the description we could see that these transactions were probably made as some correction, so they also should be deleted."
   ]
  },
  {
   "cell_type": "code",
   "execution_count": 20,
   "id": "99e2b56f-c216-435a-88d6-c1f01c77f489",
   "metadata": {},
   "outputs": [
    {
     "data": {
      "text/html": [
       "<div>\n",
       "<style scoped>\n",
       "    .dataframe tbody tr th:only-of-type {\n",
       "        vertical-align: middle;\n",
       "    }\n",
       "\n",
       "    .dataframe tbody tr th {\n",
       "        vertical-align: top;\n",
       "    }\n",
       "\n",
       "    .dataframe thead th {\n",
       "        text-align: right;\n",
       "    }\n",
       "</style>\n",
       "<table border=\"1\" class=\"dataframe\">\n",
       "  <thead>\n",
       "    <tr style=\"text-align: right;\">\n",
       "      <th></th>\n",
       "      <th>InvoiceNo</th>\n",
       "      <th>StockCode</th>\n",
       "      <th>Description</th>\n",
       "      <th>Quantity</th>\n",
       "      <th>InvoiceDate</th>\n",
       "      <th>UnitPrice</th>\n",
       "      <th>CustomerID</th>\n",
       "      <th>Country</th>\n",
       "    </tr>\n",
       "  </thead>\n",
       "  <tbody>\n",
       "    <tr>\n",
       "      <th>299983</th>\n",
       "      <td>A563186</td>\n",
       "      <td>B</td>\n",
       "      <td>Adjust bad debt</td>\n",
       "      <td>1</td>\n",
       "      <td>12-08-2011 14:51</td>\n",
       "      <td>-11062.06</td>\n",
       "      <td>NaN</td>\n",
       "      <td>United Kingdom</td>\n",
       "    </tr>\n",
       "    <tr>\n",
       "      <th>299984</th>\n",
       "      <td>A563187</td>\n",
       "      <td>B</td>\n",
       "      <td>Adjust bad debt</td>\n",
       "      <td>1</td>\n",
       "      <td>12-08-2011 14:52</td>\n",
       "      <td>-11062.06</td>\n",
       "      <td>NaN</td>\n",
       "      <td>United Kingdom</td>\n",
       "    </tr>\n",
       "  </tbody>\n",
       "</table>\n",
       "</div>"
      ],
      "text/plain": [
       "       InvoiceNo StockCode      Description  Quantity       InvoiceDate  \\\n",
       "299983   A563186         B  Adjust bad debt         1  12-08-2011 14:51   \n",
       "299984   A563187         B  Adjust bad debt         1  12-08-2011 14:52   \n",
       "\n",
       "        UnitPrice  CustomerID         Country  \n",
       "299983  -11062.06         NaN  United Kingdom  \n",
       "299984  -11062.06         NaN  United Kingdom  "
      ]
     },
     "execution_count": 20,
     "metadata": {},
     "output_type": "execute_result"
    }
   ],
   "source": [
    "df[df[\"UnitPrice\"] < 0 ].head()"
   ]
  },
  {
   "cell_type": "markdown",
   "id": "ad9f4f6c-2f8f-4159-a502-e1629ceaab25",
   "metadata": {},
   "source": [
    "As it was mentioned before there are some negative quantity transactions wich are not cancelled, hovewer all these transactions have 0 price."
   ]
  },
  {
   "cell_type": "code",
   "execution_count": 21,
   "id": "630e3eb6-bbac-4689-b912-ee033a214e40",
   "metadata": {},
   "outputs": [
    {
     "name": "stdout",
     "output_type": "stream",
     "text": [
      "Number of of transactions with negative quantity value among non cancelled transactions: 1336\n",
      "Number of of transactions with zero price and negative quantity 1336\n"
     ]
    }
   ],
   "source": [
    "\n",
    " d = df[~df['InvoiceNo'].astype(str).str.contains('C')]  \n",
    "print(\"Number of of transactions with negative quantity value among non cancelled transactions:\" ,len(d[d['Quantity']<=0]))\n",
    "print(\"Number of of transactions with zero price and negative quantity\" ,len(d[(d['Quantity']<=0) & (d['UnitPrice'] == 0)]))"
   ]
  },
  {
   "cell_type": "code",
   "execution_count": 22,
   "id": "9842a583-f13c-43df-821b-40d021f967ed",
   "metadata": {},
   "outputs": [
    {
     "name": "stdout",
     "output_type": "stream",
     "text": [
      "Percentage of cancelled transactions: 1.71 %\n",
      "Precentage of transactions with zero or negative price 0.46 %\n"
     ]
    }
   ],
   "source": [
    "# Percentage of transactions which will be deleted:\n",
    "\n",
    "\n",
    "print(\"Percentage of cancelled transactions:\" , round(len(cancelled)/len(df)*100, 2),\"%\")\n",
    "print(\"Precentage of transactions with zero or negative price\" ,round(len(df[df['UnitPrice']<=0])/len(df)*100, 2),\"%\")\n"
   ]
  },
  {
   "cell_type": "code",
   "execution_count": 23,
   "id": "c7e98de9-800a-4e41-be44-026bf1e21bae",
   "metadata": {},
   "outputs": [],
   "source": [
    "\n",
    "data = df[(df['UnitPrice'] > 0) & (df['Quantity']>0)]"
   ]
  },
  {
   "cell_type": "markdown",
   "id": "63b0f166-56bd-48cc-acc5-be2fd0c245ba",
   "metadata": {},
   "source": [
    "All rows with missing descriptions are gone after deleting problematic transactiones."
   ]
  },
  {
   "cell_type": "code",
   "execution_count": 24,
   "id": "5a4a68bf-0362-4388-a093-11c51b2c22b0",
   "metadata": {},
   "outputs": [
    {
     "name": "stdout",
     "output_type": "stream",
     "text": [
      "<class 'pandas.core.frame.DataFrame'>\n",
      "Index: 530104 entries, 0 to 541908\n",
      "Data columns (total 8 columns):\n",
      " #   Column       Non-Null Count   Dtype  \n",
      "---  ------       --------------   -----  \n",
      " 0   InvoiceNo    530104 non-null  object \n",
      " 1   StockCode    530104 non-null  object \n",
      " 2   Description  530104 non-null  object \n",
      " 3   Quantity     530104 non-null  int64  \n",
      " 4   InvoiceDate  530104 non-null  object \n",
      " 5   UnitPrice    530104 non-null  float64\n",
      " 6   CustomerID   397884 non-null  float64\n",
      " 7   Country      530104 non-null  object \n",
      "dtypes: float64(2), int64(1), object(5)\n",
      "memory usage: 36.4+ MB\n"
     ]
    }
   ],
   "source": [
    "data.info()"
   ]
  },
  {
   "cell_type": "code",
   "execution_count": 26,
   "id": "d7b01e6a-5e8f-49c0-8927-0e115e2c62ad",
   "metadata": {},
   "outputs": [
    {
     "name": "stdout",
     "output_type": "stream",
     "text": [
      "Number of duplicate transactions:  5226\n"
     ]
    }
   ],
   "source": [
    "# Checking and Deleting Duplicate Transactions \n",
    "\n",
    "print(\"Number of duplicate transactions: \", len(data[data.duplicated()]))"
   ]
  },
  {
   "cell_type": "code",
   "execution_count": 27,
   "id": "04893415-3c9a-433c-8fcc-0a7ad5e15635",
   "metadata": {},
   "outputs": [],
   "source": [
    "data.drop_duplicates(inplace = True)"
   ]
  },
  {
   "cell_type": "code",
   "execution_count": 28,
   "id": "898d9d1b-7c36-43bb-a57e-f97c060b3923",
   "metadata": {},
   "outputs": [],
   "source": [
    "# Drop rows with Missing Customer IDs\n",
    "\n",
    "data = data.dropna(subset = ['CustomerID'])"
   ]
  },
  {
   "cell_type": "markdown",
   "id": "e8a734cf-c69f-4468-a9b7-b163ed45880e",
   "metadata": {},
   "source": [
    "# Standardizing Product Descriptions\n",
    "\n",
    "It should be noted that identical product descriptions may appear in different cases throughout the dataset. To ensure consistency and accurate analysis, we'll convert all product descriptions to lowercase format.\n",
    "\n"
   ]
  },
  {
   "cell_type": "code",
   "execution_count": 31,
   "id": "7e954db3-11bc-4f18-909f-0e9d17da0fa7",
   "metadata": {},
   "outputs": [],
   "source": [
    "data['Description'] = data['Description'].str.lower()"
   ]
  },
  {
   "cell_type": "code",
   "execution_count": 33,
   "id": "ef8be69f-0d33-4ff2-982a-3f38a6ca8491",
   "metadata": {},
   "outputs": [
    {
     "name": "stdout",
     "output_type": "stream",
     "text": [
      "Number of unique Descriptions:  3877\n"
     ]
    }
   ],
   "source": [
    "# Unique Description\n",
    "\n",
    "print(\"Number of unique Descriptions: \", len(data[\"Description\"].unique().tolist()))\n"
   ]
  },
  {
   "cell_type": "code",
   "execution_count": 35,
   "id": "09b68771-ecdb-4cbd-9835-198c9d58d4c8",
   "metadata": {},
   "outputs": [
    {
     "data": {
      "text/html": [
       "<div>\n",
       "<style scoped>\n",
       "    .dataframe tbody tr th:only-of-type {\n",
       "        vertical-align: middle;\n",
       "    }\n",
       "\n",
       "    .dataframe tbody tr th {\n",
       "        vertical-align: top;\n",
       "    }\n",
       "\n",
       "    .dataframe thead th {\n",
       "        text-align: right;\n",
       "    }\n",
       "</style>\n",
       "<table border=\"1\" class=\"dataframe\">\n",
       "  <thead>\n",
       "    <tr style=\"text-align: right;\">\n",
       "      <th></th>\n",
       "      <th>InvoiceNo</th>\n",
       "      <th>StockCode</th>\n",
       "      <th>Description</th>\n",
       "      <th>Quantity</th>\n",
       "      <th>InvoiceDate</th>\n",
       "      <th>UnitPrice</th>\n",
       "      <th>CustomerID</th>\n",
       "      <th>Country</th>\n",
       "    </tr>\n",
       "  </thead>\n",
       "  <tbody>\n",
       "    <tr>\n",
       "      <th>0</th>\n",
       "      <td>536365</td>\n",
       "      <td>85123A</td>\n",
       "      <td>white hanging heart t-light holder</td>\n",
       "      <td>6</td>\n",
       "      <td>01-12-2010 08:26</td>\n",
       "      <td>2.55</td>\n",
       "      <td>17850.0</td>\n",
       "      <td>United Kingdom</td>\n",
       "    </tr>\n",
       "    <tr>\n",
       "      <th>1</th>\n",
       "      <td>536365</td>\n",
       "      <td>71053</td>\n",
       "      <td>white metal lantern</td>\n",
       "      <td>6</td>\n",
       "      <td>01-12-2010 08:26</td>\n",
       "      <td>3.39</td>\n",
       "      <td>17850.0</td>\n",
       "      <td>United Kingdom</td>\n",
       "    </tr>\n",
       "    <tr>\n",
       "      <th>2</th>\n",
       "      <td>536365</td>\n",
       "      <td>84406B</td>\n",
       "      <td>cream cupid hearts coat hanger</td>\n",
       "      <td>8</td>\n",
       "      <td>01-12-2010 08:26</td>\n",
       "      <td>2.75</td>\n",
       "      <td>17850.0</td>\n",
       "      <td>United Kingdom</td>\n",
       "    </tr>\n",
       "    <tr>\n",
       "      <th>3</th>\n",
       "      <td>536365</td>\n",
       "      <td>84029G</td>\n",
       "      <td>knitted union flag hot water bottle</td>\n",
       "      <td>6</td>\n",
       "      <td>01-12-2010 08:26</td>\n",
       "      <td>3.39</td>\n",
       "      <td>17850.0</td>\n",
       "      <td>United Kingdom</td>\n",
       "    </tr>\n",
       "    <tr>\n",
       "      <th>4</th>\n",
       "      <td>536365</td>\n",
       "      <td>84029E</td>\n",
       "      <td>red woolly hottie white heart.</td>\n",
       "      <td>6</td>\n",
       "      <td>01-12-2010 08:26</td>\n",
       "      <td>3.39</td>\n",
       "      <td>17850.0</td>\n",
       "      <td>United Kingdom</td>\n",
       "    </tr>\n",
       "  </tbody>\n",
       "</table>\n",
       "</div>"
      ],
      "text/plain": [
       "  InvoiceNo StockCode                          Description  Quantity  \\\n",
       "0    536365    85123A   white hanging heart t-light holder         6   \n",
       "1    536365     71053                  white metal lantern         6   \n",
       "2    536365    84406B       cream cupid hearts coat hanger         8   \n",
       "3    536365    84029G  knitted union flag hot water bottle         6   \n",
       "4    536365    84029E       red woolly hottie white heart.         6   \n",
       "\n",
       "        InvoiceDate  UnitPrice  CustomerID         Country  \n",
       "0  01-12-2010 08:26       2.55     17850.0  United Kingdom  \n",
       "1  01-12-2010 08:26       3.39     17850.0  United Kingdom  \n",
       "2  01-12-2010 08:26       2.75     17850.0  United Kingdom  \n",
       "3  01-12-2010 08:26       3.39     17850.0  United Kingdom  \n",
       "4  01-12-2010 08:26       3.39     17850.0  United Kingdom  "
      ]
     },
     "execution_count": 35,
     "metadata": {},
     "output_type": "execute_result"
    }
   ],
   "source": [
    "# Removing punctuations for the description:\n",
    "\n",
    "data.head()\n"
   ]
  },
  {
   "cell_type": "code",
   "execution_count": 37,
   "id": "e1215ac1-fafc-410b-9727-43c60067d026",
   "metadata": {},
   "outputs": [],
   "source": [
    "data['Description'] = data['Description'].replace(to_replace=r'[^\\w\\s]', value='', regex=True)"
   ]
  },
  {
   "cell_type": "markdown",
   "id": "f5bce293-2bf1-4eba-a78e-05a5fd8261d0",
   "metadata": {},
   "source": [
    "After this there are less unqiue descriptions:"
   ]
  },
  {
   "cell_type": "code",
   "execution_count": 39,
   "id": "796c3e57-c1de-4cff-ae5e-7ad93568ffa5",
   "metadata": {},
   "outputs": [
    {
     "name": "stdout",
     "output_type": "stream",
     "text": [
      "Number of unique descriptions: 3867\n"
     ]
    }
   ],
   "source": [
    "print(\"Number of unique descriptions:\", len(data['Description'].unique().tolist()))"
   ]
  },
  {
   "cell_type": "markdown",
   "id": "42b1a16c-b590-4611-a85c-a1d37db0dbb1",
   "metadata": {},
   "source": [
    "# Stock Codes\n",
    "Stock codes should follow a numerical format for proper inventory management. However, the dataset contains transactions with stock codes consisting entirely of letters or words. These non-standard entries will be removed from the analysis to maintain data integrity and ensure consistency in product identification.\n",
    "\n"
   ]
  },
  {
   "cell_type": "code",
   "execution_count": 42,
   "id": "8f613a00-a72a-4e4e-9767-dcd8b3909ecc",
   "metadata": {},
   "outputs": [],
   "source": [
    "data = data.loc[data['StockCode'].astype(str).str[0:4].str.isdigit()]"
   ]
  },
  {
   "cell_type": "code",
   "execution_count": 44,
   "id": "0d2ebad0-eaa3-4ef0-b121-a31b4cfbab3d",
   "metadata": {},
   "outputs": [
    {
     "data": {
      "text/plain": [
       "3659"
      ]
     },
     "execution_count": 44,
     "metadata": {},
     "output_type": "execute_result"
    }
   ],
   "source": [
    "len(data['StockCode'].unique().tolist())"
   ]
  },
  {
   "cell_type": "markdown",
   "id": "dd9fbd20-ed78-4a6e-adb2-3b8f22314257",
   "metadata": {},
   "source": [
    "# Dates\n",
    "\n",
    "Adding features as year, month, month_year, day of week, hour:"
   ]
  },
  {
   "cell_type": "code",
   "execution_count": 47,
   "id": "d6b24b6a-cb6d-43e1-a50d-1382f1c89335",
   "metadata": {},
   "outputs": [],
   "source": [
    "# Convert InvoiceDate to datetime format\n",
    "data['InvoiceDate'] = pd.to_datetime(data['InvoiceDate'], errors='coerce')\n",
    "\n",
    "data['month'] = data['InvoiceDate'].dt.month\n",
    "data['year'] = data['InvoiceDate'].dt.year\n"
   ]
  },
  {
   "cell_type": "code",
   "execution_count": 48,
   "id": "8d04c8cc-af79-4777-b7fa-126b8d37865e",
   "metadata": {},
   "outputs": [],
   "source": [
    "data['WeekDay'] = data['InvoiceDate'].dt.day_name()"
   ]
  },
  {
   "cell_type": "code",
   "execution_count": 49,
   "id": "21cb1a5c-8d6b-4a86-abe5-ab243bed18b4",
   "metadata": {},
   "outputs": [],
   "source": [
    "data['month_year'] = pd.to_datetime(data[['year', 'month']].assign(Day=1))"
   ]
  },
  {
   "cell_type": "code",
   "execution_count": 50,
   "id": "fc5af4c6-9da1-4dd8-b325-9f7b9587736e",
   "metadata": {},
   "outputs": [],
   "source": [
    "data['hour'] = data['InvoiceDate'].dt.hour"
   ]
  },
  {
   "cell_type": "code",
   "execution_count": 51,
   "id": "765bbcf3-9c21-45be-b28a-6ed58da6f240",
   "metadata": {},
   "outputs": [
    {
     "data": {
      "text/html": [
       "<div>\n",
       "<style scoped>\n",
       "    .dataframe tbody tr th:only-of-type {\n",
       "        vertical-align: middle;\n",
       "    }\n",
       "\n",
       "    .dataframe tbody tr th {\n",
       "        vertical-align: top;\n",
       "    }\n",
       "\n",
       "    .dataframe thead th {\n",
       "        text-align: right;\n",
       "    }\n",
       "</style>\n",
       "<table border=\"1\" class=\"dataframe\">\n",
       "  <thead>\n",
       "    <tr style=\"text-align: right;\">\n",
       "      <th></th>\n",
       "      <th>InvoiceNo</th>\n",
       "      <th>StockCode</th>\n",
       "      <th>Description</th>\n",
       "      <th>Quantity</th>\n",
       "      <th>InvoiceDate</th>\n",
       "      <th>UnitPrice</th>\n",
       "      <th>CustomerID</th>\n",
       "      <th>Country</th>\n",
       "      <th>month</th>\n",
       "      <th>year</th>\n",
       "      <th>WeekDay</th>\n",
       "      <th>month_year</th>\n",
       "      <th>hour</th>\n",
       "    </tr>\n",
       "  </thead>\n",
       "  <tbody>\n",
       "    <tr>\n",
       "      <th>0</th>\n",
       "      <td>536365</td>\n",
       "      <td>85123A</td>\n",
       "      <td>white hanging heart tlight holder</td>\n",
       "      <td>6</td>\n",
       "      <td>2010-01-12 08:26:00</td>\n",
       "      <td>2.55</td>\n",
       "      <td>17850.0</td>\n",
       "      <td>United Kingdom</td>\n",
       "      <td>1.0</td>\n",
       "      <td>2010.0</td>\n",
       "      <td>Tuesday</td>\n",
       "      <td>2010-01-01</td>\n",
       "      <td>8.0</td>\n",
       "    </tr>\n",
       "    <tr>\n",
       "      <th>1</th>\n",
       "      <td>536365</td>\n",
       "      <td>71053</td>\n",
       "      <td>white metal lantern</td>\n",
       "      <td>6</td>\n",
       "      <td>2010-01-12 08:26:00</td>\n",
       "      <td>3.39</td>\n",
       "      <td>17850.0</td>\n",
       "      <td>United Kingdom</td>\n",
       "      <td>1.0</td>\n",
       "      <td>2010.0</td>\n",
       "      <td>Tuesday</td>\n",
       "      <td>2010-01-01</td>\n",
       "      <td>8.0</td>\n",
       "    </tr>\n",
       "    <tr>\n",
       "      <th>2</th>\n",
       "      <td>536365</td>\n",
       "      <td>84406B</td>\n",
       "      <td>cream cupid hearts coat hanger</td>\n",
       "      <td>8</td>\n",
       "      <td>2010-01-12 08:26:00</td>\n",
       "      <td>2.75</td>\n",
       "      <td>17850.0</td>\n",
       "      <td>United Kingdom</td>\n",
       "      <td>1.0</td>\n",
       "      <td>2010.0</td>\n",
       "      <td>Tuesday</td>\n",
       "      <td>2010-01-01</td>\n",
       "      <td>8.0</td>\n",
       "    </tr>\n",
       "    <tr>\n",
       "      <th>3</th>\n",
       "      <td>536365</td>\n",
       "      <td>84029G</td>\n",
       "      <td>knitted union flag hot water bottle</td>\n",
       "      <td>6</td>\n",
       "      <td>2010-01-12 08:26:00</td>\n",
       "      <td>3.39</td>\n",
       "      <td>17850.0</td>\n",
       "      <td>United Kingdom</td>\n",
       "      <td>1.0</td>\n",
       "      <td>2010.0</td>\n",
       "      <td>Tuesday</td>\n",
       "      <td>2010-01-01</td>\n",
       "      <td>8.0</td>\n",
       "    </tr>\n",
       "    <tr>\n",
       "      <th>4</th>\n",
       "      <td>536365</td>\n",
       "      <td>84029E</td>\n",
       "      <td>red woolly hottie white heart</td>\n",
       "      <td>6</td>\n",
       "      <td>2010-01-12 08:26:00</td>\n",
       "      <td>3.39</td>\n",
       "      <td>17850.0</td>\n",
       "      <td>United Kingdom</td>\n",
       "      <td>1.0</td>\n",
       "      <td>2010.0</td>\n",
       "      <td>Tuesday</td>\n",
       "      <td>2010-01-01</td>\n",
       "      <td>8.0</td>\n",
       "    </tr>\n",
       "  </tbody>\n",
       "</table>\n",
       "</div>"
      ],
      "text/plain": [
       "  InvoiceNo StockCode                          Description  Quantity  \\\n",
       "0    536365    85123A    white hanging heart tlight holder         6   \n",
       "1    536365     71053                  white metal lantern         6   \n",
       "2    536365    84406B       cream cupid hearts coat hanger         8   \n",
       "3    536365    84029G  knitted union flag hot water bottle         6   \n",
       "4    536365    84029E        red woolly hottie white heart         6   \n",
       "\n",
       "          InvoiceDate  UnitPrice  CustomerID         Country  month    year  \\\n",
       "0 2010-01-12 08:26:00       2.55     17850.0  United Kingdom    1.0  2010.0   \n",
       "1 2010-01-12 08:26:00       3.39     17850.0  United Kingdom    1.0  2010.0   \n",
       "2 2010-01-12 08:26:00       2.75     17850.0  United Kingdom    1.0  2010.0   \n",
       "3 2010-01-12 08:26:00       3.39     17850.0  United Kingdom    1.0  2010.0   \n",
       "4 2010-01-12 08:26:00       3.39     17850.0  United Kingdom    1.0  2010.0   \n",
       "\n",
       "   WeekDay month_year  hour  \n",
       "0  Tuesday 2010-01-01   8.0  \n",
       "1  Tuesday 2010-01-01   8.0  \n",
       "2  Tuesday 2010-01-01   8.0  \n",
       "3  Tuesday 2010-01-01   8.0  \n",
       "4  Tuesday 2010-01-01   8.0  "
      ]
     },
     "execution_count": 51,
     "metadata": {},
     "output_type": "execute_result"
    }
   ],
   "source": [
    "data.head()"
   ]
  },
  {
   "cell_type": "code",
   "execution_count": 52,
   "id": "66ef0108-c6d7-4031-94d4-86cb87ed9281",
   "metadata": {},
   "outputs": [],
   "source": [
    "# Adding columns with calculations of sales: \n",
    "\n",
    "data['revenue'] = data[\"UnitPrice\"] * data[\"Quantity\"]"
   ]
  },
  {
   "cell_type": "code",
   "execution_count": 53,
   "id": "0d2bfce4-79b4-4106-aacb-8e5f8d241237",
   "metadata": {},
   "outputs": [],
   "source": [
    "\n",
    "plot = pd.DataFrame(data.groupby(['month_year'])['InvoiceNo'].count()).reset_index()\n",
    "plot2 = pd.DataFrame(data.groupby(['WeekDay'])['InvoiceNo'].count())\n",
    "plot3 = pd.DataFrame(data.groupby(['hour'])['InvoiceNo'].count()).reset_index()\n",
    "plot4 = pd.DataFrame(data.groupby(['month_year'])['revenue'].mean()).reset_index()\n",
    "plot5 = pd.DataFrame(data.groupby(['month_year'])['revenue'].sum()).reset_index()"
   ]
  },
  {
   "cell_type": "code",
   "execution_count": 54,
   "id": "d779a1f8-7b69-45db-8e55-65f897bf7d2d",
   "metadata": {},
   "outputs": [],
   "source": [
    "plot2 = plot2.reindex(['Monday', 'Tuesday', 'Wednesday', 'Thursday', 'Friday', 'Sunday']).reset_index()"
   ]
  },
  {
   "cell_type": "markdown",
   "id": "eaed396d-a445-489d-8564-f4cc77bebb24",
   "metadata": {},
   "source": [
    "# Monthly Order Analysis"
   ]
  },
  {
   "cell_type": "code",
   "execution_count": 73,
   "id": "d33286d0-9139-47b7-b84d-f5f254507729",
   "metadata": {},
   "outputs": [],
   "source": [
    "# === PROJECT VISUALIZATION SETTINGS ===\n",
    "\n",
    "import plotly.io as pio\n",
    "\n",
    "# Set clean default template\n",
    "pio.templates.default = \"plotly_white\"\n",
    "\n",
    "# Define reusable styling function for consistent chart appearance\n",
    "def quick_style(fig, title=\"Chart Title\", height=400):\n",
    "    fig.update_layout(\n",
    "        title=dict(text=title, font_size=16),\n",
    "        font=dict(family=\"Arial\", size=12, color=\"#2c3e50\"),\n",
    "        height=height,\n",
    "        coloraxis_showscale=False\n",
    "    )\n",
    "    fig.update_traces(textposition='outside', textfont_size=11)\n",
    "    fig.update_yaxes(showgrid=True, gridcolor='lightgrey', gridwidth=0.5)\n",
    "    fig.update_xaxes(showgrid=False)\n",
    "    return fig\n"
   ]
  },
  {
   "cell_type": "markdown",
   "id": "7c27e651-47b9-4dbe-9c6f-11ba0832e175",
   "metadata": {},
   "source": [
    "### Question: How many orders per month?"
   ]
  },
  {
   "cell_type": "code",
   "execution_count": 76,
   "id": "2efedd71-8fe5-4d51-80da-38d4f57cfd01",
   "metadata": {},
   "outputs": [
    {
     "data": {
      "image/png": "[encoded data removed]",
      "text/plain": [
       "<Figure size 1400x800 with 1 Axes>"
      ]
     },
     "metadata": {},
     "output_type": "display_data"
    }
   ],
   "source": [
    "# Set the figure size and style\n",
    "plt.figure(figsize=(14, 8))\n",
    "sns.set_style(\"whitegrid\")\n",
    "\n",
    "# Create the enhanced line plot\n",
    "ax = sns.lineplot(x=\"month_year\", y=\"InvoiceNo\", data=plot,\n",
    "                  linewidth=3,          # Thicker line for visibility\n",
    "                  markersize=8,         # Larger markers\n",
    "                  color='#2E86AB',      # Professional blue color\n",
    "                  markerfacecolor='#A23B72',  # Different marker color for contrast\n",
    "                  markeredgecolor='white',     # White edge around markers\n",
    "                  markeredgewidth=2)\n",
    "\n",
    "# Enhanced styling and formatting\n",
    "ax.set_title('Monthly Number of Orders', \n",
    "             fontsize=20, fontweight='bold', pad=20, color='#2C3E50')\n",
    "\n",
    "ax.set_xlabel('Month and Year', fontsize=16, fontweight='semibold', color='#34495E')\n",
    "ax.set_ylabel('Number of Orders', fontsize=16, fontweight='semibold', color='#34495E')\n",
    "\n",
    "# Format x-axis labels for better readability\n",
    "ax.tick_params(axis='x', rotation=45, labelsize=12)\n",
    "ax.tick_params(axis='y', labelsize=12)\n",
    "\n",
    "# Grid styling\n",
    "ax.grid(True, linestyle='--', alpha=0.7, color='#BDC3C7')\n",
    "\n",
    "# Remove top and right spines for cleaner look\n",
    "sns.despine(top=True, right=True)\n",
    "\n",
    "# Add subtle background color\n",
    "ax.set_facecolor('#F8F9FA')\n",
    "\n",
    "# Tight layout for better spacing\n",
    "plt.tight_layout()\n",
    "\n",
    "# Optional: Add annotations for peak values\n",
    "max_orders = plot.loc[plot['InvoiceNo'].idxmax()]\n",
    "ax.annotate(f'Peak: {max_orders.InvoiceNo}', \n",
    "            xy=(max_orders.month_year, max_orders.InvoiceNo),\n",
    "            xytext=(10, 10), textcoords='offset points',\n",
    "            bbox=dict(boxstyle='round,pad=0.5', fc='yellow', alpha=0.7),\n",
    "            arrowprops=dict(arrowstyle='->', connectionstyle='arc3,rad=0'))\n",
    "\n",
    "plt.show()\n"
   ]
  },
  {
   "cell_type": "markdown",
   "id": "84f70c2e-cea3-4ba0-9896-9142966288ee",
   "metadata": {},
   "source": [
    "The data reveals a notable increase in purchasing activity towards the end of the year. November recorded the highest number of transactions, likely attributed to consumers preparing for Christmas shopping during this period. Apart from this November spike, the transaction volume remains relatively consistent throughout the remaining months of the year"
   ]
  },
  {
   "cell_type": "markdown",
   "id": "7a59957d-091a-4472-b974-b1f469a7fdb2",
   "metadata": {},
   "source": [
    "# How many orders per day?"
   ]
  },
  {
   "cell_type": "code",
   "execution_count": 72,
   "id": "b11e6faf-34db-4865-a292-fccdf3fbadfa",
   "metadata": {},
   "outputs": [
    {
     "data": {
      "application/vnd.plotly.v1+json": {
       "config": {
        "plotlyServerURL": "https://plot.ly"
       },
       "data": [
        {
         "alignmentgroup": "True",
         "hovertemplate": "Day of the Week=%{x}<br>Number of Orders=%{marker.color}<extra></extra>",
         "legendgroup": "",
         "marker": {
          "color": [
           20798,
           27401,
           17343,
           25404,
           28183,
           23942
          ],
          "coloraxis": "coloraxis",
          "pattern": {
           "shape": ""
          }
         },
         "name": "",
         "offsetgroup": "",
         "orientation": "v",
         "showlegend": false,
         "text": [
          20798,
          27401,
          17343,
          25404,
          28183,
          23942
         ],
         "textfont": {
          "size": 11
         },
         "textposition": "outside",
         "type": "bar",
         "x": [
          "Monday",
          "Tuesday",
          "Wednesday",
          "Thursday",
          "Friday",
          "Sunday"
         ],
         "xaxis": "x",
         "y": [
          20798,
          27401,
          17343,
          25404,
          28183,
          23942
         ],
         "yaxis": "y"
        }
       ],
       "layout": {
        "barmode": "relative",
        "coloraxis": {
         "colorbar": {
          "title": {
           "text": "Number of Orders"
          }
         },
         "colorscale": [
          [
           0,
           "rgb(247,251,255)"
          ],
          [
           0.125,
           "rgb(222,235,247)"
          ],
          [
           0.25,
           "rgb(198,219,239)"
          ],
          [
           0.375,
           "rgb(158,202,225)"
          ],
          [
           0.5,
           "rgb(107,174,214)"
          ],
          [
           0.625,
           "rgb(66,146,198)"
          ],
          [
           0.75,
           "rgb(33,113,181)"
          ],
          [
           0.875,
           "rgb(8,81,156)"
          ],
          [
           1,
           "rgb(8,48,107)"
          ]
         ],
         "showscale": false
        },
        "font": {
         "color": "#2c3e50",
         "family": "Arial",
         "size": 12
        },
        "height": 400,
        "legend": {
         "tracegroupgap": 0
        },
        "paper_bgcolor": "white",
        "plot_bgcolor": "white",
        "template": {
         "data": {
          "bar": [
           {
            "error_x": {
             "color": "#2a3f5f"
            },
            "error_y": {
             "color": "#2a3f5f"
            },
            "marker": {
             "line": {
              "color": "#E5ECF6",
              "width": 0.5
             },
             "pattern": {
              "fillmode": "overlay",
              "size": 10,
              "solidity": 0.2
             }
            },
            "type": "bar"
           }
          ],
          "barpolar": [
           {
            "marker": {
             "line": {
              "color": "#E5ECF6",
              "width": 0.5
             },
             "pattern": {
              "fillmode": "overlay",
              "size": 10,
              "solidity": 0.2
             }
            },
            "type": "barpolar"
           }
          ],
          "carpet": [
           {
            "aaxis": {
             "endlinecolor": "#2a3f5f",
             "gridcolor": "white",
             "linecolor": "white",
             "minorgridcolor": "white",
             "startlinecolor": "#2a3f5f"
            },
            "baxis": {
             "endlinecolor": "#2a3f5f",
             "gridcolor": "white",
             "linecolor": "white",
             "minorgridcolor": "white",
             "startlinecolor": "#2a3f5f"
            },
            "type": "carpet"
           }
          ],
          "choropleth": [
           {
            "colorbar": {
             "outlinewidth": 0,
             "ticks": ""
            },
            "type": "choropleth"
           }
          ],
          "contour": [
           {
            "colorbar": {
             "outlinewidth": 0,
             "ticks": ""
            },
            "colorscale": [
             [
              0,
              "#0d0887"
             ],
             [
              0.1111111111111111,
              "#46039f"
             ],
             [
              0.2222222222222222,
              "#7201a8"
             ],
             [
              0.3333333333333333,
              "#9c179e"
             ],
             [
              0.4444444444444444,
              "#bd3786"
             ],
             [
              0.5555555555555556,
              "#d8576b"
             ],
             [
              0.6666666666666666,
              "#ed7953"
             ],
             [
              0.7777777777777778,
              "#fb9f3a"
             ],
             [
              0.8888888888888888,
              "#fdca26"
             ],
             [
              1,
              "#f0f921"
             ]
            ],
            "type": "contour"
           }
          ],
          "contourcarpet": [
           {
            "colorbar": {
             "outlinewidth": 0,
             "ticks": ""
            },
            "type": "contourcarpet"
           }
          ],
          "heatmap": [
           {
            "colorbar": {
             "outlinewidth": 0,
             "ticks": ""
            },
            "colorscale": [
             [
              0,
              "#0d0887"
             ],
             [
              0.1111111111111111,
              "#46039f"
             ],
             [
              0.2222222222222222,
              "#7201a8"
             ],
             [
              0.3333333333333333,
              "#9c179e"
             ],
             [
              0.4444444444444444,
              "#bd3786"
             ],
             [
              0.5555555555555556,
              "#d8576b"
             ],
             [
              0.6666666666666666,
              "#ed7953"
             ],
             [
              0.7777777777777778,
              "#fb9f3a"
             ],
             [
              0.8888888888888888,
              "#fdca26"
             ],
             [
              1,
              "#f0f921"
             ]
            ],
            "type": "heatmap"
           }
          ],
          "heatmapgl": [
           {
            "colorbar": {
             "outlinewidth": 0,
             "ticks": ""
            },
            "colorscale": [
             [
              0,
              "#0d0887"
             ],
             [
              0.1111111111111111,
              "#46039f"
             ],
             [
              0.2222222222222222,
              "#7201a8"
             ],
             [
              0.3333333333333333,
              "#9c179e"
             ],
             [
              0.4444444444444444,
              "#bd3786"
             ],
             [
              0.5555555555555556,
              "#d8576b"
             ],
             [
              0.6666666666666666,
              "#ed7953"
             ],
             [
              0.7777777777777778,
              "#fb9f3a"
             ],
             [
              0.8888888888888888,
              "#fdca26"
             ],
             [
              1,
              "#f0f921"
             ]
            ],
            "type": "heatmapgl"
           }
          ],
          "histogram": [
           {
            "marker": {
             "pattern": {
              "fillmode": "overlay",
              "size": 10,
              "solidity": 0.2
             }
            },
            "type": "histogram"
           }
          ],
          "histogram2d": [
           {
            "colorbar": {
             "outlinewidth": 0,
             "ticks": ""
            },
            "colorscale": [
             [
              0,
              "#0d0887"
             ],
             [
              0.1111111111111111,
              "#46039f"
             ],
             [
              0.2222222222222222,
              "#7201a8"
             ],
             [
              0.3333333333333333,
              "#9c179e"
             ],
             [
              0.4444444444444444,
              "#bd3786"
             ],
             [
              0.5555555555555556,
              "#d8576b"
             ],
             [
              0.6666666666666666,
              "#ed7953"
             ],
             [
              0.7777777777777778,
              "#fb9f3a"
             ],
             [
              0.8888888888888888,
              "#fdca26"
             ],
             [
              1,
              "#f0f921"
             ]
            ],
            "type": "histogram2d"
           }
          ],
          "histogram2dcontour": [
           {
            "colorbar": {
             "outlinewidth": 0,
             "ticks": ""
            },
            "colorscale": [
             [
              0,
              "#0d0887"
             ],
             [
              0.1111111111111111,
              "#46039f"
             ],
             [
              0.2222222222222222,
              "#7201a8"
             ],
             [
              0.3333333333333333,
              "#9c179e"
             ],
             [
              0.4444444444444444,
              "#bd3786"
             ],
             [
              0.5555555555555556,
              "#d8576b"
             ],
             [
              0.6666666666666666,
              "#ed7953"
             ],
             [
              0.7777777777777778,
              "#fb9f3a"
             ],
             [
              0.8888888888888888,
              "#fdca26"
             ],
             [
              1,
              "#f0f921"
             ]
            ],
            "type": "histogram2dcontour"
           }
          ],
          "mesh3d": [
           {
            "colorbar": {
             "outlinewidth": 0,
             "ticks": ""
            },
            "type": "mesh3d"
           }
          ],
          "parcoords": [
           {
            "line": {
             "colorbar": {
              "outlinewidth": 0,
              "ticks": ""
             }
            },
            "type": "parcoords"
           }
          ],
          "pie": [
           {
            "automargin": true,
            "type": "pie"
           }
          ],
          "scatter": [
           {
            "fillpattern": {
             "fillmode": "overlay",
             "size": 10,
             "solidity": 0.2
            },
            "type": "scatter"
           }
          ],
          "scatter3d": [
           {
            "line": {
             "colorbar": {
              "outlinewidth": 0,
              "ticks": ""
             }
            },
            "marker": {
             "colorbar": {
              "outlinewidth": 0,
              "ticks": ""
             }
            },
            "type": "scatter3d"
           }
          ],
          "scattercarpet": [
           {
            "marker": {
             "colorbar": {
              "outlinewidth": 0,
              "ticks": ""
             }
            },
            "type": "scattercarpet"
           }
          ],
          "scattergeo": [
           {
            "marker": {
             "colorbar": {
              "outlinewidth": 0,
              "ticks": ""
             }
            },
            "type": "scattergeo"
           }
          ],
          "scattergl": [
           {
            "marker": {
             "colorbar": {
              "outlinewidth": 0,
              "ticks": ""
             }
            },
            "type": "scattergl"
           }
          ],
          "scattermapbox": [
           {
            "marker": {
             "colorbar": {
              "outlinewidth": 0,
              "ticks": ""
             }
            },
            "type": "scattermapbox"
           }
          ],
          "scatterpolar": [
           {
            "marker": {
             "colorbar": {
              "outlinewidth": 0,
              "ticks": ""
             }
            },
            "type": "scatterpolar"
           }
          ],
          "scatterpolargl": [
           {
            "marker": {
             "colorbar": {
              "outlinewidth": 0,
              "ticks": ""
             }
            },
            "type": "scatterpolargl"
           }
          ],
          "scatterternary": [
           {
            "marker": {
             "colorbar": {
              "outlinewidth": 0,
              "ticks": ""
             }
            },
            "type": "scatterternary"
           }
          ],
          "surface": [
           {
            "colorbar": {
             "outlinewidth": 0,
             "ticks": ""
            },
            "colorscale": [
             [
              0,
              "#0d0887"
             ],
             [
              0.1111111111111111,
              "#46039f"
             ],
             [
              0.2222222222222222,
              "#7201a8"
             ],
             [
              0.3333333333333333,
              "#9c179e"
             ],
             [
              0.4444444444444444,
              "#bd3786"
             ],
             [
              0.5555555555555556,
              "#d8576b"
             ],
             [
              0.6666666666666666,
              "#ed7953"
             ],
             [
              0.7777777777777778,
              "#fb9f3a"
             ],
             [
              0.8888888888888888,
              "#fdca26"
             ],
             [
              1,
              "#f0f921"
             ]
            ],
            "type": "surface"
           }
          ],
          "table": [
           {
            "cells": {
             "fill": {
              "color": "#EBF0F8"
             },
             "line": {
              "color": "white"
             }
            },
            "header": {
             "fill": {
              "color": "#C8D4E3"
             },
             "line": {
              "color": "white"
             }
            },
            "type": "table"
           }
          ]
         },
         "layout": {
          "annotationdefaults": {
           "arrowcolor": "#2a3f5f",
           "arrowhead": 0,
           "arrowwidth": 1
          },
          "autotypenumbers": "strict",
          "coloraxis": {
           "colorbar": {
            "outlinewidth": 0,
            "ticks": ""
           }
          },
          "colorscale": {
           "diverging": [
            [
             0,
             "#8e0152"
            ],
            [
             0.1,
             "#c51b7d"
            ],
            [
             0.2,
             "#de77ae"
            ],
            [
             0.3,
             "#f1b6da"
            ],
            [
             0.4,
             "#fde0ef"
            ],
            [
             0.5,
             "#f7f7f7"
            ],
            [
             0.6,
             "#e6f5d0"
            ],
            [
             0.7,
             "#b8e186"
            ],
            [
             0.8,
             "#7fbc41"
            ],
            [
             0.9,
             "#4d9221"
            ],
            [
             1,
             "#276419"
            ]
           ],
           "sequential": [
            [
             0,
             "#0d0887"
            ],
            [
             0.1111111111111111,
             "#46039f"
            ],
            [
             0.2222222222222222,
             "#7201a8"
            ],
            [
             0.3333333333333333,
             "#9c179e"
            ],
            [
             0.4444444444444444,
             "#bd3786"
            ],
            [
             0.5555555555555556,
             "#d8576b"
            ],
            [
             0.6666666666666666,
             "#ed7953"
            ],
            [
             0.7777777777777778,
             "#fb9f3a"
            ],
            [
             0.8888888888888888,
             "#fdca26"
            ],
            [
             1,
             "#f0f921"
            ]
           ],
           "sequentialminus": [
            [
             0,
             "#0d0887"
            ],
            [
             0.1111111111111111,
             "#46039f"
            ],
            [
             0.2222222222222222,
             "#7201a8"
            ],
            [
             0.3333333333333333,
             "#9c179e"
            ],
            [
             0.4444444444444444,
             "#bd3786"
            ],
            [
             0.5555555555555556,
             "#d8576b"
            ],
            [
             0.6666666666666666,
             "#ed7953"
            ],
            [
             0.7777777777777778,
             "#fb9f3a"
            ],
            [
             0.8888888888888888,
             "#fdca26"
            ],
            [
             1,
             "#f0f921"
            ]
           ]
          },
          "colorway": [
           "#636efa",
           "#EF553B",
           "#00cc96",
           "#ab63fa",
           "#FFA15A",
           "#19d3f3",
           "#FF6692",
           "#B6E880",
           "#FF97FF",
           "#FECB52"
          ],
          "font": {
           "color": "#2a3f5f"
          },
          "geo": {
           "bgcolor": "white",
           "lakecolor": "white",
           "landcolor": "#E5ECF6",
           "showlakes": true,
           "showland": true,
           "subunitcolor": "white"
          },
          "hoverlabel": {
           "align": "left"
          },
          "hovermode": "closest",
          "mapbox": {
           "style": "light"
          },
          "paper_bgcolor": "white",
          "plot_bgcolor": "#E5ECF6",
          "polar": {
           "angularaxis": {
            "gridcolor": "white",
            "linecolor": "white",
            "ticks": ""
           },
           "bgcolor": "#E5ECF6",
           "radialaxis": {
            "gridcolor": "white",
            "linecolor": "white",
            "ticks": ""
           }
          },
          "scene": {
           "xaxis": {
            "backgroundcolor": "#E5ECF6",
            "gridcolor": "white",
            "gridwidth": 2,
            "linecolor": "white",
            "showbackground": true,
            "ticks": "",
            "zerolinecolor": "white"
           },
           "yaxis": {
            "backgroundcolor": "#E5ECF6",
            "gridcolor": "white",
            "gridwidth": 2,
            "linecolor": "white",
            "showbackground": true,
            "ticks": "",
            "zerolinecolor": "white"
           },
           "zaxis": {
            "backgroundcolor": "#E5ECF6",
            "gridcolor": "white",
            "gridwidth": 2,
            "linecolor": "white",
            "showbackground": true,
            "ticks": "",
            "zerolinecolor": "white"
           }
          },
          "shapedefaults": {
           "line": {
            "color": "#2a3f5f"
           }
          },
          "ternary": {
           "aaxis": {
            "gridcolor": "white",
            "linecolor": "white",
            "ticks": ""
           },
           "baxis": {
            "gridcolor": "white",
            "linecolor": "white",
            "ticks": ""
           },
           "bgcolor": "#E5ECF6",
           "caxis": {
            "gridcolor": "white",
            "linecolor": "white",
            "ticks": ""
           }
          },
          "title": {
           "x": 0.05
          },
          "xaxis": {
           "automargin": true,
           "gridcolor": "white",
           "linecolor": "white",
           "ticks": "",
           "title": {
            "standoff": 15
           },
           "zerolinecolor": "white",
           "zerolinewidth": 2
          },
          "yaxis": {
           "automargin": true,
           "gridcolor": "white",
           "linecolor": "white",
           "ticks": "",
           "title": {
            "standoff": 15
           },
           "zerolinecolor": "white",
           "zerolinewidth": 2
          }
         }
        },
        "title": {
         "font": {
          "size": 16
         },
         "text": "Number of Orders by Weekday"
        },
        "xaxis": {
         "anchor": "y",
         "domain": [
          0,
          1
         ],
         "showgrid": false,
         "title": {
          "text": "Day of the Week"
         }
        },
        "yaxis": {
         "anchor": "x",
         "domain": [
          0,
          1
         ],
         "gridcolor": "lightgrey",
         "gridwidth": 0.5,
         "showgrid": true,
         "title": {
          "text": "Number of Orders"
         }
        }
       }
      },
      "image/png": "[encoded data removed]",
      "text/html": [
       "<div>                            <div id=\"437bc258-78f5-49c8-babc-ed3758258e7f\" class=\"plotly-graph-div\" style=\"height:400px; width:100%;\"></div>            <script type=\"text/javascript\">                require([\"plotly\"], function(Plotly) {                    window.PLOTLYENV=window.PLOTLYENV || {};                                    if (document.getElementById(\"437bc258-78f5-49c8-babc-ed3758258e7f\")) {                    Plotly.newPlot(                        \"437bc258-78f5-49c8-babc-ed3758258e7f\",                        [{\"alignmentgroup\":\"True\",\"hovertemplate\":\"Day of the Week=%{x}\\u003cbr\\u003eNumber of Orders=%{marker.color}\\u003cextra\\u003e\\u003c\\u002fextra\\u003e\",\"legendgroup\":\"\",\"marker\":{\"color\":[20798,27401,17343,25404,28183,23942],\"coloraxis\":\"coloraxis\",\"pattern\":{\"shape\":\"\"}},\"name\":\"\",\"offsetgroup\":\"\",\"orientation\":\"v\",\"showlegend\":false,\"text\":[20798.0,27401.0,17343.0,25404.0,28183.0,23942.0],\"textposition\":\"outside\",\"x\":[\"Monday\",\"Tuesday\",\"Wednesday\",\"Thursday\",\"Friday\",\"Sunday\"],\"xaxis\":\"x\",\"y\":[20798,27401,17343,25404,28183,23942],\"yaxis\":\"y\",\"type\":\"bar\",\"textfont\":{\"size\":11}}],                        {\"template\":{\"data\":{\"histogram2dcontour\":[{\"type\":\"histogram2dcontour\",\"colorbar\":{\"outlinewidth\":0,\"ticks\":\"\"},\"colorscale\":[[0.0,\"#0d0887\"],[0.1111111111111111,\"#46039f\"],[0.2222222222222222,\"#7201a8\"],[0.3333333333333333,\"#9c179e\"],[0.4444444444444444,\"#bd3786\"],[0.5555555555555556,\"#d8576b\"],[0.6666666666666666,\"#ed7953\"],[0.7777777777777778,\"#fb9f3a\"],[0.8888888888888888,\"#fdca26\"],[1.0,\"#f0f921\"]]}],\"choropleth\":[{\"type\":\"choropleth\",\"colorbar\":{\"outlinewidth\":0,\"ticks\":\"\"}}],\"histogram2d\":[{\"type\":\"histogram2d\",\"colorbar\":{\"outlinewidth\":0,\"ticks\":\"\"},\"colorscale\":[[0.0,\"#0d0887\"],[0.1111111111111111,\"#46039f\"],[0.2222222222222222,\"#7201a8\"],[0.3333333333333333,\"#9c179e\"],[0.4444444444444444,\"#bd3786\"],[0.5555555555555556,\"#d8576b\"],[0.6666666666666666,\"#ed7953\"],[0.7777777777777778,\"#fb9f3a\"],[0.8888888888888888,\"#fdca26\"],[1.0,\"#f0f921\"]]}],\"heatmap\":[{\"type\":\"heatmap\",\"colorbar\":{\"outlinewidth\":0,\"ticks\":\"\"},\"colorscale\":[[0.0,\"#0d0887\"],[0.1111111111111111,\"#46039f\"],[0.2222222222222222,\"#7201a8\"],[0.3333333333333333,\"#9c179e\"],[0.4444444444444444,\"#bd3786\"],[0.5555555555555556,\"#d8576b\"],[0.6666666666666666,\"#ed7953\"],[0.7777777777777778,\"#fb9f3a\"],[0.8888888888888888,\"#fdca26\"],[1.0,\"#f0f921\"]]}],\"heatmapgl\":[{\"type\":\"heatmapgl\",\"colorbar\":{\"outlinewidth\":0,\"ticks\":\"\"},\"colorscale\":[[0.0,\"#0d0887\"],[0.1111111111111111,\"#46039f\"],[0.2222222222222222,\"#7201a8\"],[0.3333333333333333,\"#9c179e\"],[0.4444444444444444,\"#bd3786\"],[0.5555555555555556,\"#d8576b\"],[0.6666666666666666,\"#ed7953\"],[0.7777777777777778,\"#fb9f3a\"],[0.8888888888888888,\"#fdca26\"],[1.0,\"#f0f921\"]]}],\"contourcarpet\":[{\"type\":\"contourcarpet\",\"colorbar\":{\"outlinewidth\":0,\"ticks\":\"\"}}],\"contour\":[{\"type\":\"contour\",\"colorbar\":{\"outlinewidth\":0,\"ticks\":\"\"},\"colorscale\":[[0.0,\"#0d0887\"],[0.1111111111111111,\"#46039f\"],[0.2222222222222222,\"#7201a8\"],[0.3333333333333333,\"#9c179e\"],[0.4444444444444444,\"#bd3786\"],[0.5555555555555556,\"#d8576b\"],[0.6666666666666666,\"#ed7953\"],[0.7777777777777778,\"#fb9f3a\"],[0.8888888888888888,\"#fdca26\"],[1.0,\"#f0f921\"]]}],\"surface\":[{\"type\":\"surface\",\"colorbar\":{\"outlinewidth\":0,\"ticks\":\"\"},\"colorscale\":[[0.0,\"#0d0887\"],[0.1111111111111111,\"#46039f\"],[0.2222222222222222,\"#7201a8\"],[0.3333333333333333,\"#9c179e\"],[0.4444444444444444,\"#bd3786\"],[0.5555555555555556,\"#d8576b\"],[0.6666666666666666,\"#ed7953\"],[0.7777777777777778,\"#fb9f3a\"],[0.8888888888888888,\"#fdca26\"],[1.0,\"#f0f921\"]]}],\"mesh3d\":[{\"type\":\"mesh3d\",\"colorbar\":{\"outlinewidth\":0,\"ticks\":\"\"}}],\"scatter\":[{\"fillpattern\":{\"fillmode\":\"overlay\",\"size\":10,\"solidity\":0.2},\"type\":\"scatter\"}],\"parcoords\":[{\"type\":\"parcoords\",\"line\":{\"colorbar\":{\"outlinewidth\":0,\"ticks\":\"\"}}}],\"scatterpolargl\":[{\"type\":\"scatterpolargl\",\"marker\":{\"colorbar\":{\"outlinewidth\":0,\"ticks\":\"\"}}}],\"bar\":[{\"error_x\":{\"color\":\"#2a3f5f\"},\"error_y\":{\"color\":\"#2a3f5f\"},\"marker\":{\"line\":{\"color\":\"#E5ECF6\",\"width\":0.5},\"pattern\":{\"fillmode\":\"overlay\",\"size\":10,\"solidity\":0.2}},\"type\":\"bar\"}],\"scattergeo\":[{\"type\":\"scattergeo\",\"marker\":{\"colorbar\":{\"outlinewidth\":0,\"ticks\":\"\"}}}],\"scatterpolar\":[{\"type\":\"scatterpolar\",\"marker\":{\"colorbar\":{\"outlinewidth\":0,\"ticks\":\"\"}}}],\"histogram\":[{\"marker\":{\"pattern\":{\"fillmode\":\"overlay\",\"size\":10,\"solidity\":0.2}},\"type\":\"histogram\"}],\"scattergl\":[{\"type\":\"scattergl\",\"marker\":{\"colorbar\":{\"outlinewidth\":0,\"ticks\":\"\"}}}],\"scatter3d\":[{\"type\":\"scatter3d\",\"line\":{\"colorbar\":{\"outlinewidth\":0,\"ticks\":\"\"}},\"marker\":{\"colorbar\":{\"outlinewidth\":0,\"ticks\":\"\"}}}],\"scattermapbox\":[{\"type\":\"scattermapbox\",\"marker\":{\"colorbar\":{\"outlinewidth\":0,\"ticks\":\"\"}}}],\"scatterternary\":[{\"type\":\"scatterternary\",\"marker\":{\"colorbar\":{\"outlinewidth\":0,\"ticks\":\"\"}}}],\"scattercarpet\":[{\"type\":\"scattercarpet\",\"marker\":{\"colorbar\":{\"outlinewidth\":0,\"ticks\":\"\"}}}],\"carpet\":[{\"aaxis\":{\"endlinecolor\":\"#2a3f5f\",\"gridcolor\":\"white\",\"linecolor\":\"white\",\"minorgridcolor\":\"white\",\"startlinecolor\":\"#2a3f5f\"},\"baxis\":{\"endlinecolor\":\"#2a3f5f\",\"gridcolor\":\"white\",\"linecolor\":\"white\",\"minorgridcolor\":\"white\",\"startlinecolor\":\"#2a3f5f\"},\"type\":\"carpet\"}],\"table\":[{\"cells\":{\"fill\":{\"color\":\"#EBF0F8\"},\"line\":{\"color\":\"white\"}},\"header\":{\"fill\":{\"color\":\"#C8D4E3\"},\"line\":{\"color\":\"white\"}},\"type\":\"table\"}],\"barpolar\":[{\"marker\":{\"line\":{\"color\":\"#E5ECF6\",\"width\":0.5},\"pattern\":{\"fillmode\":\"overlay\",\"size\":10,\"solidity\":0.2}},\"type\":\"barpolar\"}],\"pie\":[{\"automargin\":true,\"type\":\"pie\"}]},\"layout\":{\"autotypenumbers\":\"strict\",\"colorway\":[\"#636efa\",\"#EF553B\",\"#00cc96\",\"#ab63fa\",\"#FFA15A\",\"#19d3f3\",\"#FF6692\",\"#B6E880\",\"#FF97FF\",\"#FECB52\"],\"font\":{\"color\":\"#2a3f5f\"},\"hovermode\":\"closest\",\"hoverlabel\":{\"align\":\"left\"},\"paper_bgcolor\":\"white\",\"plot_bgcolor\":\"#E5ECF6\",\"polar\":{\"bgcolor\":\"#E5ECF6\",\"angularaxis\":{\"gridcolor\":\"white\",\"linecolor\":\"white\",\"ticks\":\"\"},\"radialaxis\":{\"gridcolor\":\"white\",\"linecolor\":\"white\",\"ticks\":\"\"}},\"ternary\":{\"bgcolor\":\"#E5ECF6\",\"aaxis\":{\"gridcolor\":\"white\",\"linecolor\":\"white\",\"ticks\":\"\"},\"baxis\":{\"gridcolor\":\"white\",\"linecolor\":\"white\",\"ticks\":\"\"},\"caxis\":{\"gridcolor\":\"white\",\"linecolor\":\"white\",\"ticks\":\"\"}},\"coloraxis\":{\"colorbar\":{\"outlinewidth\":0,\"ticks\":\"\"}},\"colorscale\":{\"sequential\":[[0.0,\"#0d0887\"],[0.1111111111111111,\"#46039f\"],[0.2222222222222222,\"#7201a8\"],[0.3333333333333333,\"#9c179e\"],[0.4444444444444444,\"#bd3786\"],[0.5555555555555556,\"#d8576b\"],[0.6666666666666666,\"#ed7953\"],[0.7777777777777778,\"#fb9f3a\"],[0.8888888888888888,\"#fdca26\"],[1.0,\"#f0f921\"]],\"sequentialminus\":[[0.0,\"#0d0887\"],[0.1111111111111111,\"#46039f\"],[0.2222222222222222,\"#7201a8\"],[0.3333333333333333,\"#9c179e\"],[0.4444444444444444,\"#bd3786\"],[0.5555555555555556,\"#d8576b\"],[0.6666666666666666,\"#ed7953\"],[0.7777777777777778,\"#fb9f3a\"],[0.8888888888888888,\"#fdca26\"],[1.0,\"#f0f921\"]],\"diverging\":[[0,\"#8e0152\"],[0.1,\"#c51b7d\"],[0.2,\"#de77ae\"],[0.3,\"#f1b6da\"],[0.4,\"#fde0ef\"],[0.5,\"#f7f7f7\"],[0.6,\"#e6f5d0\"],[0.7,\"#b8e186\"],[0.8,\"#7fbc41\"],[0.9,\"#4d9221\"],[1,\"#276419\"]]},\"xaxis\":{\"gridcolor\":\"white\",\"linecolor\":\"white\",\"ticks\":\"\",\"title\":{\"standoff\":15},\"zerolinecolor\":\"white\",\"automargin\":true,\"zerolinewidth\":2},\"yaxis\":{\"gridcolor\":\"white\",\"linecolor\":\"white\",\"ticks\":\"\",\"title\":{\"standoff\":15},\"zerolinecolor\":\"white\",\"automargin\":true,\"zerolinewidth\":2},\"scene\":{\"xaxis\":{\"backgroundcolor\":\"#E5ECF6\",\"gridcolor\":\"white\",\"linecolor\":\"white\",\"showbackground\":true,\"ticks\":\"\",\"zerolinecolor\":\"white\",\"gridwidth\":2},\"yaxis\":{\"backgroundcolor\":\"#E5ECF6\",\"gridcolor\":\"white\",\"linecolor\":\"white\",\"showbackground\":true,\"ticks\":\"\",\"zerolinecolor\":\"white\",\"gridwidth\":2},\"zaxis\":{\"backgroundcolor\":\"#E5ECF6\",\"gridcolor\":\"white\",\"linecolor\":\"white\",\"showbackground\":true,\"ticks\":\"\",\"zerolinecolor\":\"white\",\"gridwidth\":2}},\"shapedefaults\":{\"line\":{\"color\":\"#2a3f5f\"}},\"annotationdefaults\":{\"arrowcolor\":\"#2a3f5f\",\"arrowhead\":0,\"arrowwidth\":1},\"geo\":{\"bgcolor\":\"white\",\"landcolor\":\"#E5ECF6\",\"subunitcolor\":\"white\",\"showland\":true,\"showlakes\":true,\"lakecolor\":\"white\"},\"title\":{\"x\":0.05},\"mapbox\":{\"style\":\"light\"}}},\"xaxis\":{\"anchor\":\"y\",\"domain\":[0.0,1.0],\"title\":{\"text\":\"Day of the Week\"},\"showgrid\":false},\"yaxis\":{\"anchor\":\"x\",\"domain\":[0.0,1.0],\"title\":{\"text\":\"Number of Orders\"},\"showgrid\":true,\"gridcolor\":\"lightgrey\",\"gridwidth\":0.5},\"coloraxis\":{\"colorbar\":{\"title\":{\"text\":\"Number of Orders\"}},\"colorscale\":[[0.0,\"rgb(247,251,255)\"],[0.125,\"rgb(222,235,247)\"],[0.25,\"rgb(198,219,239)\"],[0.375,\"rgb(158,202,225)\"],[0.5,\"rgb(107,174,214)\"],[0.625,\"rgb(66,146,198)\"],[0.75,\"rgb(33,113,181)\"],[0.875,\"rgb(8,81,156)\"],[1.0,\"rgb(8,48,107)\"]],\"showscale\":false},\"legend\":{\"tracegroupgap\":0},\"title\":{\"text\":\"Number of Orders by Weekday\",\"font\":{\"size\":16}},\"barmode\":\"relative\",\"font\":{\"family\":\"Arial\",\"size\":12,\"color\":\"#2c3e50\"},\"plot_bgcolor\":\"white\",\"paper_bgcolor\":\"white\",\"height\":400},                        {\"responsive\": true}                    ).then(function(){\n",
       "                            \n",
       "var gd = document.getElementById('437bc258-78f5-49c8-babc-ed3758258e7f');\n",
       "var x = new MutationObserver(function (mutations, observer) {{\n",
       "        var display = window.getComputedStyle(gd).display;\n",
       "        if (!display || display === 'none') {{\n",
       "            console.log([gd, 'removed!']);\n",
       "            Plotly.purge(gd);\n",
       "            observer.disconnect();\n",
       "        }}\n",
       "}});\n",
       "\n",
       "// Listen for the removal of the full notebook cells\n",
       "var notebookContainer = gd.closest('#notebook-container');\n",
       "if (notebookContainer) {{\n",
       "    x.observe(notebookContainer, {childList: true});\n",
       "}}\n",
       "\n",
       "// Listen for the clearing of the current output cell\n",
       "var outputEl = gd.closest('.output');\n",
       "if (outputEl) {{\n",
       "    x.observe(outputEl, {childList: true});\n",
       "}}\n",
       "\n",
       "                        })                };                });            </script>        </div>"
      ]
     },
     "metadata": {},
     "output_type": "display_data"
    }
   ],
   "source": [
    "import plotly.express as px\n",
    "\n",
    "# Create clean, minimalistic bar chart\n",
    "fig = px.bar(plot2, x='WeekDay', y='InvoiceNo',\n",
    "             title='Number of Orders by Weekday',\n",
    "             labels={'WeekDay':'Day of the Week', 'InvoiceNo': 'Number of Orders'},\n",
    "             color='InvoiceNo',\n",
    "             color_continuous_scale='Blues',\n",
    "             text='InvoiceNo')\n",
    "\n",
    "# Clean minimalistic styling\n",
    "fig.update_layout(\n",
    "    title_font_size=16,\n",
    "    font=dict(family=\"Arial\", size=12, color=\"#2c3e50\"),\n",
    "    plot_bgcolor='white',\n",
    "    paper_bgcolor='white',\n",
    "    coloraxis_showscale=False,\n",
    "    height=400\n",
    ")\n",
    "\n",
    "# Format text labels\n",
    "fig.update_traces(textposition='outside', textfont_size=11)\n",
    "\n",
    "# Subtle gridlines only\n",
    "fig.update_xaxes(showgrid=False)\n",
    "fig.update_yaxes(showgrid=True, gridcolor='lightgrey', gridwidth=0.5)\n",
    "\n",
    "fig.show()\n"
   ]
  },
  {
   "cell_type": "markdown",
   "id": "462ba9d9-3035-4d4b-bdc6-ca11b91fa881",
   "metadata": {},
   "source": [
    "Interesting fact is that there were not any transaction on Saturday during the whole period. One of the explanations colud be some filter during the data collection process. Number of buyings are not significantly differ according to the day of the week."
   ]
  },
  {
   "cell_type": "markdown",
   "id": "2091f7ea-e6cd-4632-9145-25fce0385f54",
   "metadata": {},
   "source": [
    "# How many orders per hour?"
   ]
  },
  {
   "cell_type": "code",
   "execution_count": 78,
   "id": "44357f2d-6bb5-4116-9236-76f1d150eef5",
   "metadata": {},
   "outputs": [
    {
     "data": {
      "image/png": "[encoded data removed]",
      "text/plain": [
       "<Figure size 640x480 with 1 Axes>"
      ]
     },
     "metadata": {},
     "output_type": "display_data"
    }
   ],
   "source": [
    "ax = sns.barplot(x = 'hour', y = \"InvoiceNo\", data = plot3)"
   ]
  },
  {
   "cell_type": "markdown",
   "id": "ab3c8008-0fa4-40a1-8d6c-750af953daf0",
   "metadata": {},
   "source": [
    "The most number of transactions is done between 12 a.m. and 2 p.m., people tend to make there purchase during the lunch time. There aren't any transactions after 8 p.m. till 6 a.m."
   ]
  },
  {
   "cell_type": "markdown",
   "id": "ecc8112c-1ab6-4bfe-b7e8-cc6e13eb109a",
   "metadata": {},
   "source": [
    "# Which month brings the highest revenue?\n"
   ]
  },
  {
   "cell_type": "code",
   "execution_count": 80,
   "id": "edabc102-404f-47b5-b5a1-3059c0497bac",
   "metadata": {},
   "outputs": [
    {
     "data": {
      "image/png": "[encoded data removed]",
      "text/plain": [
       "<Figure size 640x480 with 1 Axes>"
      ]
     },
     "metadata": {},
     "output_type": "display_data"
    }
   ],
   "source": [
    "ax = sns.lineplot(x = 'month_year', y = 'revenue', data = plot5)"
   ]
  },
  {
   "cell_type": "markdown",
   "id": "9b38aa6d-d25c-4cba-8728-fb3a1fd03677",
   "metadata": {},
   "source": [
    "The highest sales are also during the November, as the number of purchasing is the highest."
   ]
  },
  {
   "cell_type": "markdown",
   "id": "1e20ae60-6433-4ec0-b013-372c7a350967",
   "metadata": {},
   "source": [
    "# Price\n",
    "\n",
    "From the descriptive statistics for price variable, we could see that most ot the sold products are quite cheap. Probably retail sells some small items, as office supplies, small decorations etc.\n"
   ]
  },
  {
   "cell_type": "code",
   "execution_count": 82,
   "id": "040df12b-c4a5-4b38-8f86-a8e5399e5e96",
   "metadata": {},
   "outputs": [
    {
     "data": {
      "text/html": [
       "<div>\n",
       "<style scoped>\n",
       "    .dataframe tbody tr th:only-of-type {\n",
       "        vertical-align: middle;\n",
       "    }\n",
       "\n",
       "    .dataframe tbody tr th {\n",
       "        vertical-align: top;\n",
       "    }\n",
       "\n",
       "    .dataframe thead th {\n",
       "        text-align: right;\n",
       "    }\n",
       "</style>\n",
       "<table border=\"1\" class=\"dataframe\">\n",
       "  <thead>\n",
       "    <tr style=\"text-align: right;\">\n",
       "      <th></th>\n",
       "      <th>UnitPrice</th>\n",
       "    </tr>\n",
       "  </thead>\n",
       "  <tbody>\n",
       "    <tr>\n",
       "      <th>count</th>\n",
       "      <td>391150.000000</td>\n",
       "    </tr>\n",
       "    <tr>\n",
       "      <th>mean</th>\n",
       "      <td>2.874372</td>\n",
       "    </tr>\n",
       "    <tr>\n",
       "      <th>std</th>\n",
       "      <td>4.284738</td>\n",
       "    </tr>\n",
       "    <tr>\n",
       "      <th>min</th>\n",
       "      <td>0.040000</td>\n",
       "    </tr>\n",
       "    <tr>\n",
       "      <th>25%</th>\n",
       "      <td>1.250000</td>\n",
       "    </tr>\n",
       "    <tr>\n",
       "      <th>50%</th>\n",
       "      <td>1.950000</td>\n",
       "    </tr>\n",
       "    <tr>\n",
       "      <th>75%</th>\n",
       "      <td>3.750000</td>\n",
       "    </tr>\n",
       "    <tr>\n",
       "      <th>max</th>\n",
       "      <td>649.500000</td>\n",
       "    </tr>\n",
       "  </tbody>\n",
       "</table>\n",
       "</div>"
      ],
      "text/plain": [
       "           UnitPrice\n",
       "count  391150.000000\n",
       "mean        2.874372\n",
       "std         4.284738\n",
       "min         0.040000\n",
       "25%         1.250000\n",
       "50%         1.950000\n",
       "75%         3.750000\n",
       "max       649.500000"
      ]
     },
     "execution_count": 82,
     "metadata": {},
     "output_type": "execute_result"
    }
   ],
   "source": [
    "pd.DataFrame(data['UnitPrice'].describe())"
   ]
  },
  {
   "cell_type": "markdown",
   "id": "e1f50d9a-f06e-48ee-b47a-782b0d25cfba",
   "metadata": {},
   "source": [
    "Description of products, which cost more than 50 (Assumption: same currency for retails in different countries.)"
   ]
  },
  {
   "cell_type": "code",
   "execution_count": 86,
   "id": "04b42059-1804-4839-ba98-2a297115f7fb",
   "metadata": {},
   "outputs": [
    {
     "data": {
      "text/plain": [
       "['rustic  seventeen drawer sideboard',\n",
       " 'vintage post office cabinet',\n",
       " 'vintage red kitchen cabinet',\n",
       " 'regency mirror with shutters',\n",
       " 'love seat antique white metal',\n",
       " 'vintage blue kitchen cabinet',\n",
       " 'school desk and chair ',\n",
       " 'chest natural wood 20 drawers',\n",
       " 'decorative hanging shelving unit',\n",
       " 'picnic basket wicker 60 pieces']"
      ]
     },
     "execution_count": 86,
     "metadata": {},
     "output_type": "execute_result"
    }
   ],
   "source": [
    "data[data['UnitPrice'] > 50 ]['Description'].unique().tolist()"
   ]
  },
  {
   "cell_type": "markdown",
   "id": "dfc03345-6756-45f6-9d9b-76e99d0b282b",
   "metadata": {},
   "source": [
    "# Price distribution of expensive goods :"
   ]
  },
  {
   "cell_type": "code",
   "execution_count": 87,
   "id": "2dfe8403-bb15-4173-ad99-83090902b188",
   "metadata": {},
   "outputs": [
    {
     "data": {
      "image/png": "[encoded data removed]",
      "text/plain": [
       "<Figure size 640x480 with 1 Axes>"
      ]
     },
     "metadata": {},
     "output_type": "display_data"
    }
   ],
   "source": [
    "sns.distplot(data[data['UnitPrice'] > 50 ]['UnitPrice'], kde = False, rug = True); "
   ]
  },
  {
   "cell_type": "markdown",
   "id": "407071c5-c044-48a9-8fe9-1b424d01145a",
   "metadata": {},
   "source": [
    "# Transactions by countries\n"
   ]
  },
  {
   "cell_type": "code",
   "execution_count": 88,
   "id": "2be582d8-7a25-4530-b5c7-ea0db8651514",
   "metadata": {},
   "outputs": [
    {
     "data": {
      "text/html": [
       "<div>\n",
       "<style scoped>\n",
       "    .dataframe tbody tr th:only-of-type {\n",
       "        vertical-align: middle;\n",
       "    }\n",
       "\n",
       "    .dataframe tbody tr th {\n",
       "        vertical-align: top;\n",
       "    }\n",
       "\n",
       "    .dataframe thead th {\n",
       "        text-align: right;\n",
       "    }\n",
       "</style>\n",
       "<table border=\"1\" class=\"dataframe\">\n",
       "  <thead>\n",
       "    <tr style=\"text-align: right;\">\n",
       "      <th></th>\n",
       "      <th>Country</th>\n",
       "      <th>CustomerID</th>\n",
       "    </tr>\n",
       "  </thead>\n",
       "  <tbody>\n",
       "    <tr>\n",
       "      <th>35</th>\n",
       "      <td>United Kingdom</td>\n",
       "      <td>3916</td>\n",
       "    </tr>\n",
       "    <tr>\n",
       "      <th>14</th>\n",
       "      <td>Germany</td>\n",
       "      <td>94</td>\n",
       "    </tr>\n",
       "    <tr>\n",
       "      <th>13</th>\n",
       "      <td>France</td>\n",
       "      <td>87</td>\n",
       "    </tr>\n",
       "    <tr>\n",
       "      <th>30</th>\n",
       "      <td>Spain</td>\n",
       "      <td>30</td>\n",
       "    </tr>\n",
       "    <tr>\n",
       "      <th>3</th>\n",
       "      <td>Belgium</td>\n",
       "      <td>25</td>\n",
       "    </tr>\n",
       "    <tr>\n",
       "      <th>32</th>\n",
       "      <td>Switzerland</td>\n",
       "      <td>21</td>\n",
       "    </tr>\n",
       "    <tr>\n",
       "      <th>26</th>\n",
       "      <td>Portugal</td>\n",
       "      <td>19</td>\n",
       "    </tr>\n",
       "    <tr>\n",
       "      <th>18</th>\n",
       "      <td>Italy</td>\n",
       "      <td>14</td>\n",
       "    </tr>\n",
       "    <tr>\n",
       "      <th>12</th>\n",
       "      <td>Finland</td>\n",
       "      <td>12</td>\n",
       "    </tr>\n",
       "    <tr>\n",
       "      <th>1</th>\n",
       "      <td>Austria</td>\n",
       "      <td>11</td>\n",
       "    </tr>\n",
       "    <tr>\n",
       "      <th>24</th>\n",
       "      <td>Norway</td>\n",
       "      <td>10</td>\n",
       "    </tr>\n",
       "    <tr>\n",
       "      <th>0</th>\n",
       "      <td>Australia</td>\n",
       "      <td>9</td>\n",
       "    </tr>\n",
       "    <tr>\n",
       "      <th>9</th>\n",
       "      <td>Denmark</td>\n",
       "      <td>9</td>\n",
       "    </tr>\n",
       "    <tr>\n",
       "      <th>23</th>\n",
       "      <td>Netherlands</td>\n",
       "      <td>9</td>\n",
       "    </tr>\n",
       "    <tr>\n",
       "      <th>6</th>\n",
       "      <td>Channel Islands</td>\n",
       "      <td>9</td>\n",
       "    </tr>\n",
       "    <tr>\n",
       "      <th>19</th>\n",
       "      <td>Japan</td>\n",
       "      <td>8</td>\n",
       "    </tr>\n",
       "    <tr>\n",
       "      <th>31</th>\n",
       "      <td>Sweden</td>\n",
       "      <td>8</td>\n",
       "    </tr>\n",
       "    <tr>\n",
       "      <th>7</th>\n",
       "      <td>Cyprus</td>\n",
       "      <td>8</td>\n",
       "    </tr>\n",
       "    <tr>\n",
       "      <th>25</th>\n",
       "      <td>Poland</td>\n",
       "      <td>6</td>\n",
       "    </tr>\n",
       "    <tr>\n",
       "      <th>36</th>\n",
       "      <td>Unspecified</td>\n",
       "      <td>4</td>\n",
       "    </tr>\n",
       "    <tr>\n",
       "      <th>33</th>\n",
       "      <td>USA</td>\n",
       "      <td>4</td>\n",
       "    </tr>\n",
       "    <tr>\n",
       "      <th>5</th>\n",
       "      <td>Canada</td>\n",
       "      <td>4</td>\n",
       "    </tr>\n",
       "    <tr>\n",
       "      <th>15</th>\n",
       "      <td>Greece</td>\n",
       "      <td>4</td>\n",
       "    </tr>\n",
       "    <tr>\n",
       "      <th>17</th>\n",
       "      <td>Israel</td>\n",
       "      <td>3</td>\n",
       "    </tr>\n",
       "    <tr>\n",
       "      <th>10</th>\n",
       "      <td>EIRE</td>\n",
       "      <td>3</td>\n",
       "    </tr>\n",
       "    <tr>\n",
       "      <th>34</th>\n",
       "      <td>United Arab Emirates</td>\n",
       "      <td>2</td>\n",
       "    </tr>\n",
       "    <tr>\n",
       "      <th>2</th>\n",
       "      <td>Bahrain</td>\n",
       "      <td>2</td>\n",
       "    </tr>\n",
       "    <tr>\n",
       "      <th>22</th>\n",
       "      <td>Malta</td>\n",
       "      <td>2</td>\n",
       "    </tr>\n",
       "    <tr>\n",
       "      <th>4</th>\n",
       "      <td>Brazil</td>\n",
       "      <td>1</td>\n",
       "    </tr>\n",
       "    <tr>\n",
       "      <th>20</th>\n",
       "      <td>Lebanon</td>\n",
       "      <td>1</td>\n",
       "    </tr>\n",
       "    <tr>\n",
       "      <th>16</th>\n",
       "      <td>Iceland</td>\n",
       "      <td>1</td>\n",
       "    </tr>\n",
       "    <tr>\n",
       "      <th>8</th>\n",
       "      <td>Czech Republic</td>\n",
       "      <td>1</td>\n",
       "    </tr>\n",
       "    <tr>\n",
       "      <th>11</th>\n",
       "      <td>European Community</td>\n",
       "      <td>1</td>\n",
       "    </tr>\n",
       "    <tr>\n",
       "      <th>28</th>\n",
       "      <td>Saudi Arabia</td>\n",
       "      <td>1</td>\n",
       "    </tr>\n",
       "    <tr>\n",
       "      <th>27</th>\n",
       "      <td>RSA</td>\n",
       "      <td>1</td>\n",
       "    </tr>\n",
       "    <tr>\n",
       "      <th>21</th>\n",
       "      <td>Lithuania</td>\n",
       "      <td>1</td>\n",
       "    </tr>\n",
       "    <tr>\n",
       "      <th>29</th>\n",
       "      <td>Singapore</td>\n",
       "      <td>1</td>\n",
       "    </tr>\n",
       "  </tbody>\n",
       "</table>\n",
       "</div>"
      ],
      "text/plain": [
       "                 Country  CustomerID\n",
       "35        United Kingdom        3916\n",
       "14               Germany          94\n",
       "13                France          87\n",
       "30                 Spain          30\n",
       "3                Belgium          25\n",
       "32           Switzerland          21\n",
       "26              Portugal          19\n",
       "18                 Italy          14\n",
       "12               Finland          12\n",
       "1                Austria          11\n",
       "24                Norway          10\n",
       "0              Australia           9\n",
       "9                Denmark           9\n",
       "23           Netherlands           9\n",
       "6        Channel Islands           9\n",
       "19                 Japan           8\n",
       "31                Sweden           8\n",
       "7                 Cyprus           8\n",
       "25                Poland           6\n",
       "36           Unspecified           4\n",
       "33                   USA           4\n",
       "5                 Canada           4\n",
       "15                Greece           4\n",
       "17                Israel           3\n",
       "10                  EIRE           3\n",
       "34  United Arab Emirates           2\n",
       "2                Bahrain           2\n",
       "22                 Malta           2\n",
       "4                 Brazil           1\n",
       "20               Lebanon           1\n",
       "16               Iceland           1\n",
       "8         Czech Republic           1\n",
       "11    European Community           1\n",
       "28          Saudi Arabia           1\n",
       "27                   RSA           1\n",
       "21             Lithuania           1\n",
       "29             Singapore           1"
      ]
     },
     "execution_count": 88,
     "metadata": {},
     "output_type": "execute_result"
    }
   ],
   "source": [
    "customer_country=data[['Country','CustomerID']].drop_duplicates()\n",
    "customer_country.groupby(['Country'])['CustomerID'].aggregate('count').reset_index().sort_values('CustomerID', ascending=False)"
   ]
  },
  {
   "cell_type": "markdown",
   "id": "3a0ea07b-b655-4326-bb72-bcf10eb14ca0",
   "metadata": {},
   "source": [
    "The most unique customers are from United Kingdom, for this reason it is better to concetrate on UK for customer segmentation."
   ]
  },
  {
   "cell_type": "code",
   "execution_count": 89,
   "id": "63a7be96-6ec6-4d77-ab3c-603ea5c3852a",
   "metadata": {},
   "outputs": [
    {
     "name": "stdout",
     "output_type": "stream",
     "text": [
      "Transactions were made in 37 different countries\n"
     ]
    }
   ],
   "source": [
    "print(\"Transactions were made in\", len(data['Country'].unique().tolist()), \"different countries\")"
   ]
  },
  {
   "cell_type": "code",
   "execution_count": 90,
   "id": "eb679438-5de6-48e2-8ba9-0e54467f0c99",
   "metadata": {},
   "outputs": [
    {
     "name": "stdout",
     "output_type": "stream",
     "text": [
      "Number of transactions where country is unspecified: 241\n"
     ]
    }
   ],
   "source": [
    "print(\"Number of transactions where country is unspecified:\", len(data[data['Country']=='Unspecified']))"
   ]
  },
  {
   "cell_type": "code",
   "execution_count": 91,
   "id": "9e472cc8-db51-4965-91ee-d97b1fa23d0b",
   "metadata": {},
   "outputs": [],
   "source": [
    "# DataFrame For Plots\n",
    "plot6 = pd.DataFrame(data.groupby(['Country'])['revenue'].sum()).reset_index()\n",
    "plot6 = plot6.sort_values(['revenue']).reset_index(drop=True)\n",
    "plot7 = pd.DataFrame(data.groupby(['Country'])['revenue'].count()).reset_index()\n",
    "plot7 = plot7.sort_values(['revenue']).reset_index(drop=True)"
   ]
  },
  {
   "cell_type": "code",
   "execution_count": 93,
   "id": "7e8ca3c2-cc88-44b3-86b3-8c130498f18c",
   "metadata": {},
   "outputs": [
    {
     "data": {
      "image/png": "[encoded data removed]",
      "text/plain": [
       "<Figure size 1300x1150 with 1 Axes>"
      ]
     },
     "metadata": {},
     "output_type": "display_data"
    }
   ],
   "source": [
    "%matplotlib inline\n",
    "fig, ax = plt.subplots()\n",
    "fig.set_size_inches(13, 11.5)\n",
    "ax=sns.barplot(x='Country', y='revenue',data=plot6.tail(10),estimator=max,ax=ax)\n",
    "ax.set_xticklabels(ax.get_xticklabels(), rotation=47, ha=\"right\")\n",
    "plt.show()"
   ]
  },
  {
   "cell_type": "markdown",
   "id": "9e3ff165-082d-47cb-9a54-ee74818c6fa7",
   "metadata": {},
   "source": [
    "## The United Kingdom Generates the Highest Sales Volume"
   ]
  },
  {
   "cell_type": "markdown",
   "id": "a66dcec9-29f0-4921-8a16-53b26660acf1",
   "metadata": {},
   "source": [
    "# Countries by number of orders:"
   ]
  },
  {
   "cell_type": "code",
   "execution_count": 95,
   "id": "17372e07-1b42-4177-9ee4-e9319dec9bee",
   "metadata": {},
   "outputs": [
    {
     "data": {
      "image/png": "[encoded data removed]",
      "text/plain": [
       "<Figure size 1300x1150 with 1 Axes>"
      ]
     },
     "metadata": {},
     "output_type": "display_data"
    }
   ],
   "source": [
    "\n",
    "%matplotlib inline\n",
    "fig, ax = plt.subplots()\n",
    "fig.set_size_inches(13, 11.5)\n",
    "ax=sns.barplot(x='Country', y='revenue',data=plot7.tail(10),estimator=max,ax=ax)\n",
    "ax.set_xticklabels(ax.get_xticklabels(), rotation=47, ha=\"right\")\n",
    "plt.show()"
   ]
  },
  {
   "cell_type": "markdown",
   "id": "94aff19b-02dd-47ed-8dbf-ab8ffa66c4d5",
   "metadata": {},
   "source": [
    "The biggest number of orders are made in United Kingdom, which is expected, because the store is UK-based."
   ]
  },
  {
   "cell_type": "markdown",
   "id": "87f40bbc-4690-41c0-afae-e4e81a92671a",
   "metadata": {},
   "source": [
    "# Analysis"
   ]
  },
  {
   "cell_type": "markdown",
   "id": "83e01e64-a2f6-469b-bc1a-17cf639ef262",
   "metadata": {},
   "source": [
    "# Top Customers \n",
    "\n",
    "- Calculating How often did particular customer make purchase during the year : "
   ]
  },
  {
   "cell_type": "code",
   "execution_count": 96,
   "id": "443712fb-e97f-4f16-83f6-9d95786106d3",
   "metadata": {},
   "outputs": [],
   "source": [
    "data['freq'] = data.groupby('CustomerID')['CustomerID'].transform('count')"
   ]
  },
  {
   "cell_type": "markdown",
   "id": "bbe3161c-ea05-4944-b63f-803c83fefbb8",
   "metadata": {},
   "source": [
    "Calculate the top 500 customers who brings the highest revenue"
   ]
  },
  {
   "cell_type": "code",
   "execution_count": 98,
   "id": "3c5fefa9-c1c7-4e31-a7bf-090936d36d3f",
   "metadata": {},
   "outputs": [],
   "source": [
    "customer  = pd.DataFrame(data.groupby(['CustomerID'])['revenue'].sum().sort_values(ascending=False)).reset_index().head(10)"
   ]
  },
  {
   "cell_type": "code",
   "execution_count": 99,
   "id": "60dfd089-e03f-41e8-ba9a-c8fb57a25d4a",
   "metadata": {},
   "outputs": [
    {
     "data": {
      "text/plain": [
       "[14646.0,\n",
       " 18102.0,\n",
       " 17450.0,\n",
       " 16446.0,\n",
       " 14911.0,\n",
       " 12415.0,\n",
       " 14156.0,\n",
       " 17511.0,\n",
       " 12346.0,\n",
       " 16029.0]"
      ]
     },
     "execution_count": 99,
     "metadata": {},
     "output_type": "execute_result"
    }
   ],
   "source": [
    "customer['CustomerID'].tolist()"
   ]
  },
  {
   "cell_type": "code",
   "execution_count": 100,
   "id": "2656d958-1c94-42c0-aaf4-f4185d818d03",
   "metadata": {},
   "outputs": [],
   "source": [
    "top_customer = data[data['CustomerID'].isin(customer['CustomerID'].tolist())][['CustomerID', 'Country', 'revenue', 'Quantity', 'freq']]"
   ]
  },
  {
   "cell_type": "markdown",
   "id": "f8c041e3-cf7c-481c-aeaf-e36b9e4c1835",
   "metadata": {},
   "source": [
    "### Countries where the top customers resids"
   ]
  },
  {
   "cell_type": "code",
   "execution_count": 101,
   "id": "7b1c250c-02c4-4cbe-ac52-12420207db0c",
   "metadata": {},
   "outputs": [
    {
     "data": {
      "text/plain": [
       "['United Kingdom', 'EIRE', 'Netherlands', 'Australia']"
      ]
     },
     "execution_count": 101,
     "metadata": {},
     "output_type": "execute_result"
    }
   ],
   "source": [
    "top_customer['Country'].unique().tolist()"
   ]
  },
  {
   "cell_type": "markdown",
   "id": "5e915028-c0fc-47ee-b64c-e943fedd47ca",
   "metadata": {},
   "source": [
    "# RFM ANALYSIS \n",
    "\n",
    "- HERE WE ARE SELECING ONLY UK BASED CUSTOMERS "
   ]
  },
  {
   "cell_type": "code",
   "execution_count": 103,
   "id": "e18581de-4685-4143-8bcd-9bc01e0b1546",
   "metadata": {},
   "outputs": [
    {
     "data": {
      "text/html": [
       "<div>\n",
       "<style scoped>\n",
       "    .dataframe tbody tr th:only-of-type {\n",
       "        vertical-align: middle;\n",
       "    }\n",
       "\n",
       "    .dataframe tbody tr th {\n",
       "        vertical-align: top;\n",
       "    }\n",
       "\n",
       "    .dataframe thead th {\n",
       "        text-align: right;\n",
       "    }\n",
       "</style>\n",
       "<table border=\"1\" class=\"dataframe\">\n",
       "  <thead>\n",
       "    <tr style=\"text-align: right;\">\n",
       "      <th></th>\n",
       "      <th>InvoiceNo</th>\n",
       "      <th>StockCode</th>\n",
       "      <th>Description</th>\n",
       "      <th>Quantity</th>\n",
       "      <th>InvoiceDate</th>\n",
       "      <th>UnitPrice</th>\n",
       "      <th>CustomerID</th>\n",
       "      <th>Country</th>\n",
       "      <th>month</th>\n",
       "      <th>year</th>\n",
       "      <th>WeekDay</th>\n",
       "      <th>month_year</th>\n",
       "      <th>hour</th>\n",
       "      <th>revenue</th>\n",
       "      <th>freq</th>\n",
       "    </tr>\n",
       "  </thead>\n",
       "  <tbody>\n",
       "    <tr>\n",
       "      <th>0</th>\n",
       "      <td>536365</td>\n",
       "      <td>85123A</td>\n",
       "      <td>white hanging heart tlight holder</td>\n",
       "      <td>6</td>\n",
       "      <td>2010-01-12 08:26:00</td>\n",
       "      <td>2.55</td>\n",
       "      <td>17850.0</td>\n",
       "      <td>United Kingdom</td>\n",
       "      <td>1.0</td>\n",
       "      <td>2010.0</td>\n",
       "      <td>Tuesday</td>\n",
       "      <td>2010-01-01</td>\n",
       "      <td>8.0</td>\n",
       "      <td>15.30</td>\n",
       "      <td>297</td>\n",
       "    </tr>\n",
       "    <tr>\n",
       "      <th>1</th>\n",
       "      <td>536365</td>\n",
       "      <td>71053</td>\n",
       "      <td>white metal lantern</td>\n",
       "      <td>6</td>\n",
       "      <td>2010-01-12 08:26:00</td>\n",
       "      <td>3.39</td>\n",
       "      <td>17850.0</td>\n",
       "      <td>United Kingdom</td>\n",
       "      <td>1.0</td>\n",
       "      <td>2010.0</td>\n",
       "      <td>Tuesday</td>\n",
       "      <td>2010-01-01</td>\n",
       "      <td>8.0</td>\n",
       "      <td>20.34</td>\n",
       "      <td>297</td>\n",
       "    </tr>\n",
       "    <tr>\n",
       "      <th>2</th>\n",
       "      <td>536365</td>\n",
       "      <td>84406B</td>\n",
       "      <td>cream cupid hearts coat hanger</td>\n",
       "      <td>8</td>\n",
       "      <td>2010-01-12 08:26:00</td>\n",
       "      <td>2.75</td>\n",
       "      <td>17850.0</td>\n",
       "      <td>United Kingdom</td>\n",
       "      <td>1.0</td>\n",
       "      <td>2010.0</td>\n",
       "      <td>Tuesday</td>\n",
       "      <td>2010-01-01</td>\n",
       "      <td>8.0</td>\n",
       "      <td>22.00</td>\n",
       "      <td>297</td>\n",
       "    </tr>\n",
       "    <tr>\n",
       "      <th>3</th>\n",
       "      <td>536365</td>\n",
       "      <td>84029G</td>\n",
       "      <td>knitted union flag hot water bottle</td>\n",
       "      <td>6</td>\n",
       "      <td>2010-01-12 08:26:00</td>\n",
       "      <td>3.39</td>\n",
       "      <td>17850.0</td>\n",
       "      <td>United Kingdom</td>\n",
       "      <td>1.0</td>\n",
       "      <td>2010.0</td>\n",
       "      <td>Tuesday</td>\n",
       "      <td>2010-01-01</td>\n",
       "      <td>8.0</td>\n",
       "      <td>20.34</td>\n",
       "      <td>297</td>\n",
       "    </tr>\n",
       "    <tr>\n",
       "      <th>4</th>\n",
       "      <td>536365</td>\n",
       "      <td>84029E</td>\n",
       "      <td>red woolly hottie white heart</td>\n",
       "      <td>6</td>\n",
       "      <td>2010-01-12 08:26:00</td>\n",
       "      <td>3.39</td>\n",
       "      <td>17850.0</td>\n",
       "      <td>United Kingdom</td>\n",
       "      <td>1.0</td>\n",
       "      <td>2010.0</td>\n",
       "      <td>Tuesday</td>\n",
       "      <td>2010-01-01</td>\n",
       "      <td>8.0</td>\n",
       "      <td>20.34</td>\n",
       "      <td>297</td>\n",
       "    </tr>\n",
       "  </tbody>\n",
       "</table>\n",
       "</div>"
      ],
      "text/plain": [
       "  InvoiceNo StockCode                          Description  Quantity  \\\n",
       "0    536365    85123A    white hanging heart tlight holder         6   \n",
       "1    536365     71053                  white metal lantern         6   \n",
       "2    536365    84406B       cream cupid hearts coat hanger         8   \n",
       "3    536365    84029G  knitted union flag hot water bottle         6   \n",
       "4    536365    84029E        red woolly hottie white heart         6   \n",
       "\n",
       "          InvoiceDate  UnitPrice  CustomerID         Country  month    year  \\\n",
       "0 2010-01-12 08:26:00       2.55     17850.0  United Kingdom    1.0  2010.0   \n",
       "1 2010-01-12 08:26:00       3.39     17850.0  United Kingdom    1.0  2010.0   \n",
       "2 2010-01-12 08:26:00       2.75     17850.0  United Kingdom    1.0  2010.0   \n",
       "3 2010-01-12 08:26:00       3.39     17850.0  United Kingdom    1.0  2010.0   \n",
       "4 2010-01-12 08:26:00       3.39     17850.0  United Kingdom    1.0  2010.0   \n",
       "\n",
       "   WeekDay month_year  hour  revenue  freq  \n",
       "0  Tuesday 2010-01-01   8.0    15.30   297  \n",
       "1  Tuesday 2010-01-01   8.0    20.34   297  \n",
       "2  Tuesday 2010-01-01   8.0    22.00   297  \n",
       "3  Tuesday 2010-01-01   8.0    20.34   297  \n",
       "4  Tuesday 2010-01-01   8.0    20.34   297  "
      ]
     },
     "execution_count": 103,
     "metadata": {},
     "output_type": "execute_result"
    }
   ],
   "source": [
    "df_uk = data[data['Country'] == 'United Kingdom']\n",
    "df_uk.head()"
   ]
  },
  {
   "cell_type": "code",
   "execution_count": 105,
   "id": "3a46f569-9d96-47a0-9555-58d303d62e1e",
   "metadata": {},
   "outputs": [
    {
     "name": "stdout",
     "output_type": "stream",
     "text": [
      "2010-01-12 08:26:00\n",
      "2011-12-10 17:19:00\n"
     ]
    }
   ],
   "source": [
    "print(df_uk['InvoiceDate'].min())\n",
    "print(df_uk['InvoiceDate'].max())"
   ]
  },
  {
   "cell_type": "code",
   "execution_count": 108,
   "id": "eef06d89-3794-4d8c-ab29-c64071d2fd2b",
   "metadata": {},
   "outputs": [],
   "source": [
    "presence = dt.datetime(2011,12,10)\n",
    "df_uk['InvoiceDate'] = pd.to_datetime(df_uk['InvoiceDate'])"
   ]
  },
  {
   "cell_type": "markdown",
   "id": "6b7ba5ce-7db6-4ed9-892e-a5985271bf73",
   "metadata": {},
   "source": [
    "# RFM Customer Segmentation\n",
    "Now we'll calculate the RFM scores for each customer to segment them based on their purchasing behavior:\n",
    "\n",
    "### RFM Components\n",
    "- Recency (R) - Days since the customer's last purchase\n",
    "- Frequency (F) - Total number of transactions made by the customer\n",
    "- Monetary (M) - Total amount spent by the customer\n",
    "\n",
    "These three metrics help us identify different customer segments: loyal customers, at-risk customers, new customers, and champions.\n",
    "\n",
    "Source: Putler RFM Analysis Guide(https://www.putler.com/rfm-analysis/)"
   ]
  },
  {
   "cell_type": "code",
   "execution_count": 112,
   "id": "8f4fefa5-62d9-41a2-a8a5-bcd8466598b2",
   "metadata": {},
   "outputs": [
    {
     "name": "stdout",
     "output_type": "stream",
     "text": [
      "Successfully calculated RFM scores for 2706 customers\n"
     ]
    },
    {
     "data": {
      "text/html": [
       "<div>\n",
       "<style scoped>\n",
       "    .dataframe tbody tr th:only-of-type {\n",
       "        vertical-align: middle;\n",
       "    }\n",
       "\n",
       "    .dataframe tbody tr th {\n",
       "        vertical-align: top;\n",
       "    }\n",
       "\n",
       "    .dataframe thead th {\n",
       "        text-align: right;\n",
       "    }\n",
       "</style>\n",
       "<table border=\"1\" class=\"dataframe\">\n",
       "  <thead>\n",
       "    <tr style=\"text-align: right;\">\n",
       "      <th></th>\n",
       "      <th>recency</th>\n",
       "      <th>frequency</th>\n",
       "      <th>monetary_value</th>\n",
       "    </tr>\n",
       "    <tr>\n",
       "      <th>CustomerID</th>\n",
       "      <th></th>\n",
       "      <th></th>\n",
       "      <th></th>\n",
       "    </tr>\n",
       "  </thead>\n",
       "  <tbody>\n",
       "    <tr>\n",
       "      <th>12747.0</th>\n",
       "      <td>151</td>\n",
       "      <td>5</td>\n",
       "      <td>2226.18</td>\n",
       "    </tr>\n",
       "    <tr>\n",
       "      <th>12748.0</th>\n",
       "      <td>4</td>\n",
       "      <td>106</td>\n",
       "      <td>13783.76</td>\n",
       "    </tr>\n",
       "    <tr>\n",
       "      <th>12749.0</th>\n",
       "      <td>66</td>\n",
       "      <td>4</td>\n",
       "      <td>3518.29</td>\n",
       "    </tr>\n",
       "    <tr>\n",
       "      <th>12820.0</th>\n",
       "      <td>181</td>\n",
       "      <td>1</td>\n",
       "      <td>210.35</td>\n",
       "    </tr>\n",
       "    <tr>\n",
       "      <th>12821.0</th>\n",
       "      <td>96</td>\n",
       "      <td>1</td>\n",
       "      <td>92.72</td>\n",
       "    </tr>\n",
       "  </tbody>\n",
       "</table>\n",
       "</div>"
      ],
      "text/plain": [
       "            recency  frequency  monetary_value\n",
       "CustomerID                                    \n",
       "12747.0         151          5         2226.18\n",
       "12748.0           4        106        13783.76\n",
       "12749.0          66          4         3518.29\n",
       "12820.0         181          1          210.35\n",
       "12821.0          96          1           92.72"
      ]
     },
     "execution_count": 112,
     "metadata": {},
     "output_type": "execute_result"
    }
   ],
   "source": [
    "# Let's remove customers who don't have proper ID or purchase dates\n",
    "# This ensures we only analyze customers with complete transaction records\n",
    "df_uk_clean = df_uk.dropna(subset=['CustomerID', 'InvoiceDate'])\n",
    "\n",
    "# Use the most recent date in our dataset as the reference point\n",
    "presence = df_uk_clean['InvoiceDate'].max()\n",
    "\n",
    "# Now we can calculate RFM scores for each customer\n",
    "rfm = df_uk_clean.groupby('CustomerID').agg({\n",
    "    'InvoiceDate': lambda x: (presence - x.max()).days,  # Days since last purchase\n",
    "    'InvoiceNo': lambda x: x.nunique(),  # How many different orders they placed\n",
    "    'revenue': lambda x: x.sum()  # Total money spent\n",
    "})\n",
    "\n",
    "# Convert days to whole numbers for easier interpretation\n",
    "rfm['InvoiceDate'] = rfm['InvoiceDate'].astype(int)\n",
    "\n",
    "# Give the columns more meaningful names\n",
    "rfm.rename(columns={\n",
    "    'InvoiceDate': 'recency', \n",
    "    'InvoiceNo': 'frequency', \n",
    "    'revenue': 'monetary_value'\n",
    "}, inplace=True)\n",
    "\n",
    "print(f\"Successfully calculated RFM scores for {len(rfm)} customers\")\n",
    "rfm.head()\n"
   ]
  },
  {
   "cell_type": "code",
   "execution_count": 113,
   "id": "f07e9772-8cd7-4954-8c93-eb2df1766112",
   "metadata": {},
   "outputs": [
    {
     "data": {
      "text/html": [
       "<div>\n",
       "<style scoped>\n",
       "    .dataframe tbody tr th:only-of-type {\n",
       "        vertical-align: middle;\n",
       "    }\n",
       "\n",
       "    .dataframe tbody tr th {\n",
       "        vertical-align: top;\n",
       "    }\n",
       "\n",
       "    .dataframe thead th {\n",
       "        text-align: right;\n",
       "    }\n",
       "</style>\n",
       "<table border=\"1\" class=\"dataframe\">\n",
       "  <thead>\n",
       "    <tr style=\"text-align: right;\">\n",
       "      <th></th>\n",
       "      <th>recency</th>\n",
       "      <th>frequency</th>\n",
       "      <th>monetary_value</th>\n",
       "    </tr>\n",
       "    <tr>\n",
       "      <th>CustomerID</th>\n",
       "      <th></th>\n",
       "      <th></th>\n",
       "      <th></th>\n",
       "    </tr>\n",
       "  </thead>\n",
       "  <tbody>\n",
       "    <tr>\n",
       "      <th>12747.0</th>\n",
       "      <td>151</td>\n",
       "      <td>5</td>\n",
       "      <td>2226.18</td>\n",
       "    </tr>\n",
       "    <tr>\n",
       "      <th>12748.0</th>\n",
       "      <td>4</td>\n",
       "      <td>106</td>\n",
       "      <td>13783.76</td>\n",
       "    </tr>\n",
       "    <tr>\n",
       "      <th>12749.0</th>\n",
       "      <td>66</td>\n",
       "      <td>4</td>\n",
       "      <td>3518.29</td>\n",
       "    </tr>\n",
       "    <tr>\n",
       "      <th>12820.0</th>\n",
       "      <td>181</td>\n",
       "      <td>1</td>\n",
       "      <td>210.35</td>\n",
       "    </tr>\n",
       "    <tr>\n",
       "      <th>12821.0</th>\n",
       "      <td>96</td>\n",
       "      <td>1</td>\n",
       "      <td>92.72</td>\n",
       "    </tr>\n",
       "  </tbody>\n",
       "</table>\n",
       "</div>"
      ],
      "text/plain": [
       "            recency  frequency  monetary_value\n",
       "CustomerID                                    \n",
       "12747.0         151          5         2226.18\n",
       "12748.0           4        106        13783.76\n",
       "12749.0          66          4         3518.29\n",
       "12820.0         181          1          210.35\n",
       "12821.0          96          1           92.72"
      ]
     },
     "execution_count": 113,
     "metadata": {},
     "output_type": "execute_result"
    }
   ],
   "source": [
    "rfm.head()"
   ]
  },
  {
   "cell_type": "markdown",
   "id": "86ef637e-17c4-4de7-b7a2-a58c55b54a04",
   "metadata": {},
   "source": [
    "####  Define quartiles for rfm score:"
   ]
  },
  {
   "cell_type": "code",
   "execution_count": 115,
   "id": "cfe2bac8-66d5-4e35-a108-09e74fb4e7fd",
   "metadata": {},
   "outputs": [],
   "source": [
    "quantiles = rfm.quantile(q=[0.25,0.5,0.75])\n",
    "quantiles = quantiles.to_dict()"
   ]
  },
  {
   "cell_type": "code",
   "execution_count": 116,
   "id": "eacc1205-9642-4561-aae7-8d21fb5ef202",
   "metadata": {},
   "outputs": [],
   "source": [
    "rfm_segments= rfm"
   ]
  },
  {
   "cell_type": "code",
   "execution_count": 117,
   "id": "00fdb1b5-3888-4cd7-b6f6-4dbb13beaae8",
   "metadata": {},
   "outputs": [],
   "source": [
    "# Arguments (x = value, p = recency, monetary_value, frequency, k = quartiles dict)\n",
    "def RClass(x,p,d):\n",
    "    if x <= d[p][0.25]:\n",
    "        return 1\n",
    "    elif x <= d[p][0.50]:\n",
    "        return 2\n",
    "    elif x <= d[p][0.75]: \n",
    "        return 3\n",
    "    else:\n",
    "        return 4\n",
    "    \n",
    "# Arguments (x = value, p = recency, monetary_value, frequency, k = quartiles dict)\n",
    "def FMClass(x,p,d):\n",
    "    if x <= d[p][0.25]:\n",
    "        return 4\n",
    "    elif x <= d[p][0.50]:\n",
    "        return 3\n",
    "    elif x <= d[p][0.75]: \n",
    "        return 2\n",
    "    else:\n",
    "        return 1"
   ]
  },
  {
   "cell_type": "code",
   "execution_count": 118,
   "id": "6cf373de-0978-4fdc-8ae3-6cd2205551e3",
   "metadata": {},
   "outputs": [],
   "source": [
    "rfm_segments['R_Quartile'] = rfm_segments['recency'].apply(RClass, args=('recency',quantiles,))\n",
    "rfm_segments['F_Quartile'] = rfm_segments['frequency'].apply(FMClass, args=('frequency',quantiles,))\n",
    "rfm_segments['M_Quartile'] = rfm_segments['monetary_value'].apply(FMClass, args=('monetary_value',quantiles,))"
   ]
  },
  {
   "cell_type": "code",
   "execution_count": 119,
   "id": "afb32cea-a89e-4ec6-b1fe-685dc7c823e9",
   "metadata": {},
   "outputs": [],
   "source": [
    "rfm_segments['RFMClass'] = rfm_segments.R_Quartile.map(str) \\\n",
    "                            + rfm_segments.F_Quartile.map(str) \\\n",
    "                            + rfm_segments.M_Quartile.map(str)"
   ]
  },
  {
   "cell_type": "code",
   "execution_count": 120,
   "id": "6b88a3cf-a347-4ef5-9ab1-8a9009010d48",
   "metadata": {},
   "outputs": [
    {
     "data": {
      "text/html": [
       "<div>\n",
       "<style scoped>\n",
       "    .dataframe tbody tr th:only-of-type {\n",
       "        vertical-align: middle;\n",
       "    }\n",
       "\n",
       "    .dataframe tbody tr th {\n",
       "        vertical-align: top;\n",
       "    }\n",
       "\n",
       "    .dataframe thead th {\n",
       "        text-align: right;\n",
       "    }\n",
       "</style>\n",
       "<table border=\"1\" class=\"dataframe\">\n",
       "  <thead>\n",
       "    <tr style=\"text-align: right;\">\n",
       "      <th></th>\n",
       "      <th>recency</th>\n",
       "      <th>frequency</th>\n",
       "      <th>monetary_value</th>\n",
       "      <th>R_Quartile</th>\n",
       "      <th>F_Quartile</th>\n",
       "      <th>M_Quartile</th>\n",
       "      <th>RFMClass</th>\n",
       "    </tr>\n",
       "    <tr>\n",
       "      <th>CustomerID</th>\n",
       "      <th></th>\n",
       "      <th></th>\n",
       "      <th></th>\n",
       "      <th></th>\n",
       "      <th></th>\n",
       "      <th></th>\n",
       "      <th></th>\n",
       "    </tr>\n",
       "  </thead>\n",
       "  <tbody>\n",
       "    <tr>\n",
       "      <th>12747.0</th>\n",
       "      <td>151</td>\n",
       "      <td>5</td>\n",
       "      <td>2226.18</td>\n",
       "      <td>3</td>\n",
       "      <td>1</td>\n",
       "      <td>1</td>\n",
       "      <td>311</td>\n",
       "    </tr>\n",
       "    <tr>\n",
       "      <th>12748.0</th>\n",
       "      <td>4</td>\n",
       "      <td>106</td>\n",
       "      <td>13783.76</td>\n",
       "      <td>1</td>\n",
       "      <td>1</td>\n",
       "      <td>1</td>\n",
       "      <td>111</td>\n",
       "    </tr>\n",
       "    <tr>\n",
       "      <th>12749.0</th>\n",
       "      <td>66</td>\n",
       "      <td>4</td>\n",
       "      <td>3518.29</td>\n",
       "      <td>2</td>\n",
       "      <td>1</td>\n",
       "      <td>1</td>\n",
       "      <td>211</td>\n",
       "    </tr>\n",
       "    <tr>\n",
       "      <th>12820.0</th>\n",
       "      <td>181</td>\n",
       "      <td>1</td>\n",
       "      <td>210.35</td>\n",
       "      <td>3</td>\n",
       "      <td>4</td>\n",
       "      <td>4</td>\n",
       "      <td>344</td>\n",
       "    </tr>\n",
       "    <tr>\n",
       "      <th>12821.0</th>\n",
       "      <td>96</td>\n",
       "      <td>1</td>\n",
       "      <td>92.72</td>\n",
       "      <td>2</td>\n",
       "      <td>4</td>\n",
       "      <td>4</td>\n",
       "      <td>244</td>\n",
       "    </tr>\n",
       "  </tbody>\n",
       "</table>\n",
       "</div>"
      ],
      "text/plain": [
       "            recency  frequency  monetary_value  R_Quartile  F_Quartile  \\\n",
       "CustomerID                                                               \n",
       "12747.0         151          5         2226.18           3           1   \n",
       "12748.0           4        106        13783.76           1           1   \n",
       "12749.0          66          4         3518.29           2           1   \n",
       "12820.0         181          1          210.35           3           4   \n",
       "12821.0          96          1           92.72           2           4   \n",
       "\n",
       "            M_Quartile RFMClass  \n",
       "CustomerID                       \n",
       "12747.0              1      311  \n",
       "12748.0              1      111  \n",
       "12749.0              1      211  \n",
       "12820.0              4      344  \n",
       "12821.0              4      244  "
      ]
     },
     "execution_count": 120,
     "metadata": {},
     "output_type": "execute_result"
    }
   ],
   "source": [
    "\n",
    "rfm_segments.head()"
   ]
  },
  {
   "cell_type": "code",
   "execution_count": 121,
   "id": "57c65edf-b1d7-4c9a-b3f9-2cd1ba9810c1",
   "metadata": {},
   "outputs": [
    {
     "data": {
      "text/plain": [
       "array(['311', '111', '211', '344', '244', '444', '143', '222', '334',\n",
       "       '312', '221', '333', '443', '121', '332', '231', '233', '243',\n",
       "       '122', '242', '313', '342', '431', '144', '131', '442', '132',\n",
       "       '343', '212', '331', '432', '142', '441', '433', '223', '134',\n",
       "       '322', '411', '232', '234', '321', '112', '133', '141', '341',\n",
       "       '421', '123', '241', '422', '412', '213', '434', '423', '323',\n",
       "       '113', '424', '224', '324', '124'], dtype=object)"
      ]
     },
     "execution_count": 121,
     "metadata": {},
     "output_type": "execute_result"
    }
   ],
   "source": [
    "rfm_segments['RFMClass'].unique()"
   ]
  },
  {
   "cell_type": "code",
   "execution_count": 122,
   "id": "dbcac5aa-55d6-4bb3-aea9-704c178b4b7b",
   "metadata": {},
   "outputs": [
    {
     "data": {
      "text/html": [
       "<div>\n",
       "<style scoped>\n",
       "    .dataframe tbody tr th:only-of-type {\n",
       "        vertical-align: middle;\n",
       "    }\n",
       "\n",
       "    .dataframe tbody tr th {\n",
       "        vertical-align: top;\n",
       "    }\n",
       "\n",
       "    .dataframe thead th {\n",
       "        text-align: right;\n",
       "    }\n",
       "</style>\n",
       "<table border=\"1\" class=\"dataframe\">\n",
       "  <thead>\n",
       "    <tr style=\"text-align: right;\">\n",
       "      <th></th>\n",
       "      <th>recency</th>\n",
       "      <th>frequency</th>\n",
       "      <th>monetary_value</th>\n",
       "      <th>R_Quartile</th>\n",
       "      <th>F_Quartile</th>\n",
       "      <th>M_Quartile</th>\n",
       "      <th>RFMClass</th>\n",
       "    </tr>\n",
       "    <tr>\n",
       "      <th>CustomerID</th>\n",
       "      <th></th>\n",
       "      <th></th>\n",
       "      <th></th>\n",
       "      <th></th>\n",
       "      <th></th>\n",
       "      <th></th>\n",
       "      <th></th>\n",
       "    </tr>\n",
       "  </thead>\n",
       "  <tbody>\n",
       "    <tr>\n",
       "      <th>12747.0</th>\n",
       "      <td>151</td>\n",
       "      <td>5</td>\n",
       "      <td>2226.18</td>\n",
       "      <td>3</td>\n",
       "      <td>1</td>\n",
       "      <td>1</td>\n",
       "      <td>311</td>\n",
       "    </tr>\n",
       "    <tr>\n",
       "      <th>12748.0</th>\n",
       "      <td>4</td>\n",
       "      <td>106</td>\n",
       "      <td>13783.76</td>\n",
       "      <td>1</td>\n",
       "      <td>1</td>\n",
       "      <td>1</td>\n",
       "      <td>111</td>\n",
       "    </tr>\n",
       "    <tr>\n",
       "      <th>12749.0</th>\n",
       "      <td>66</td>\n",
       "      <td>4</td>\n",
       "      <td>3518.29</td>\n",
       "      <td>2</td>\n",
       "      <td>1</td>\n",
       "      <td>1</td>\n",
       "      <td>211</td>\n",
       "    </tr>\n",
       "    <tr>\n",
       "      <th>12820.0</th>\n",
       "      <td>181</td>\n",
       "      <td>1</td>\n",
       "      <td>210.35</td>\n",
       "      <td>3</td>\n",
       "      <td>4</td>\n",
       "      <td>4</td>\n",
       "      <td>344</td>\n",
       "    </tr>\n",
       "    <tr>\n",
       "      <th>12821.0</th>\n",
       "      <td>96</td>\n",
       "      <td>1</td>\n",
       "      <td>92.72</td>\n",
       "      <td>2</td>\n",
       "      <td>4</td>\n",
       "      <td>4</td>\n",
       "      <td>244</td>\n",
       "    </tr>\n",
       "  </tbody>\n",
       "</table>\n",
       "</div>"
      ],
      "text/plain": [
       "            recency  frequency  monetary_value  R_Quartile  F_Quartile  \\\n",
       "CustomerID                                                               \n",
       "12747.0         151          5         2226.18           3           1   \n",
       "12748.0           4        106        13783.76           1           1   \n",
       "12749.0          66          4         3518.29           2           1   \n",
       "12820.0         181          1          210.35           3           4   \n",
       "12821.0          96          1           92.72           2           4   \n",
       "\n",
       "            M_Quartile RFMClass  \n",
       "CustomerID                       \n",
       "12747.0              1      311  \n",
       "12748.0              1      111  \n",
       "12749.0              1      211  \n",
       "12820.0              4      344  \n",
       "12821.0              4      244  "
      ]
     },
     "execution_count": 122,
     "metadata": {},
     "output_type": "execute_result"
    }
   ],
   "source": [
    "rfm_segments.head()"
   ]
  },
  {
   "cell_type": "code",
   "execution_count": 123,
   "id": "f75cbe70-96ad-469a-abfd-a3765b51b75b",
   "metadata": {},
   "outputs": [
    {
     "name": "stdout",
     "output_type": "stream",
     "text": [
      "Champions:  232 ( 8.57 %)\n",
      "Loyal Customers:  509 ( 18.81 %)\n",
      "Big Spenders:  677 ( 25.02 %)\n",
      "About to Sleep:  42 ( 1.55 %)\n",
      "Lost Customers:  253 ( 9.35 %)\n"
     ]
    }
   ],
   "source": [
    "print(\"Champions: \",len(rfm_segments[rfm_segments['RFMClass']=='111']), \"(\", round(len(rfm_segments[rfm_segments['RFMClass']=='111'])/len(rfm_segments)*100,2), \"%)\") \n",
    "print('Loyal Customers: ',len(rfm_segments[rfm_segments['F_Quartile']==1]), \"(\", round(len(rfm_segments[rfm_segments['F_Quartile']==1])/len(rfm_segments)*100,2), \"%)\")\n",
    "print(\"Big Spenders: \",len(rfm_segments[rfm_segments['M_Quartile']==1]), \"(\", round(len(rfm_segments[rfm_segments['M_Quartile']==1])/len(rfm_segments)*100,2), \"%)\")\n",
    "print('About to Sleep: ', len(rfm_segments[rfm_segments['RFMClass']=='322']), \"(\", round(len(rfm_segments[rfm_segments['RFMClass']=='322'])/len(rfm_segments)*100,2), \"%)\")\n",
    "print('Lost Customers: ',len(rfm_segments[rfm_segments['RFMClass']=='444']), \"(\", round(len(rfm_segments[rfm_segments['RFMClass']=='444'])/len(rfm_segments)*100,2), \"%)\")"
   ]
  },
  {
   "cell_type": "markdown",
   "id": "ec341b55-45ad-447e-a5e3-f6a95c17e55c",
   "metadata": {},
   "source": [
    "# 4. Recommendations and Key Insights\n",
    "\n",
    "<!-- This section summarizes our analysis findings and provides actionable business recommendations -->\n",
    "\n",
    "## Data Quality Improvements\n",
    "\n",
    "<!-- Data quality issues discovered during our EDA that need attention -->\n",
    "\n",
    "Our comprehensive analysis revealed several **critical data integrity challenges** that should be addressed to enhance future analytical capabilities:\n",
    "\n",
    "### Customer Data Management\n",
    "- **Missing Customer IDs**: Implement validation rules to ensure customer information is captured for all transactions\n",
    "  - *Impact*: Better customer tracking and personalized marketing strategies\n",
    "  - *Solution*: Database constraints and front-end validation\n",
    "  \n",
    "- **Duplicate Transactions**: Establish data integration protocols to prevent duplicate entries from multiple sources\n",
    "  - *Impact*: Currently distorts transaction volumes and revenue calculations\n",
    "  - *Solution*: Implement unique transaction identifiers and data deduplication processes\n",
    "\n",
    "### Product Information Standardization\n",
    "- **Stock Code Validation**: Create consistent formatting rules for stock codes to ensure numerical standards\n",
    "  - *Current Issue*: Mixed alphanumeric codes create inventory management confusion\n",
    "  - *Recommendation*: Implement regex validation patterns\n",
    "  \n",
    "- **Product Description Consistency**: Ensure each stock code corresponds to a single product description\n",
    "  - *Problem*: Same products have multiple descriptions, affecting analysis accuracy\n",
    "  - *Solution*: Master data management for product catalog\n",
    "\n",
    "---\n",
    "\n",
    "## Business Intelligence from RFM Analysis\n",
    "\n",
    "<!-- Key insights derived from our customer segmentation analysis -->\n",
    "\n",
    "The **RFM customer segmentation** revealed valuable insights about our UK customer portfolio:\n",
    "\n",
    "### 📊 Customer Portfolio Composition\n",
    "\n",
    "**High-Value Segments**\n",
    "- Significant portion demonstrates **loyal purchasing behavior**\n",
    "- Substantial monetary contributions represent our most valuable assets\n",
    "- These customers drive majority of revenue\n",
    "\n",
    "**At-Risk Segments** \n",
    "- Identified customer groups showing **declining engagement**\n",
    "- Require targeted retention campaigns to prevent churn\n",
    "- Early intervention can recover substantial revenue\n",
    "\n",
    "**Growth Opportunities**\n",
    "- New and developing customer segments present expansion potential\n",
    "- Focus areas: relationship building and lifetime value enhancement\n",
    "\n",
    "---\n",
    "\n",
    "## 🎯 Strategic Marketing Recommendations\n",
    "\n",
    "<!-- Actionable strategies based on RFM customer segments -->\n",
    "\n",
    "### Differentiated Marketing Strategies by Customer Segment:\n",
    "\n",
    "| Customer Segment | Strategy | Expected Outcome |\n",
    "|------------------|----------|------------------|\n",
    "| **Champions** | Exclusive rewards, early product access | Increased loyalty & advocacy |\n",
    "| **At-Risk** | Re-engagement campaigns with personalized offers | Churn prevention |\n",
    "| **New Customers** | Onboarding experiences & relationship development | Higher lifetime value |\n",
    "| **Loyal** | Cross-selling and premium product promotions | Revenue expansion |\n",
    "\n",
    "### Implementation Priority:\n",
    "1. **Immediate**: Address data quality issues for accurate future analysis\n",
    "2. **Short-term**: Deploy targeted campaigns for at-risk customers  \n",
    "3. **Long-term**: Develop comprehensive customer lifecycle management\n",
    "\n",
    "---\n",
    "\n",
    "## 📈 Expected Business Impact\n",
    "\n",
    "**Data Quality Improvements:**\n",
    "- 📊 Enhanced analytical accuracy by ~25-30%\n",
    "- 🎯 More precise customer targeting capabilities\n",
    "- 💰 Reduced marketing spend waste through better segmentation\n",
    "\n",
    "**Customer Strategy Implementation:**\n",
    "- 🔄 Improved customer retention rates\n",
    "- 📈 Increased average customer lifetime value\n",
    "- 🚀 Better ROI on marketing investments\n",
    "\n",
    "> **Key Takeaway**: Addressing these data quality issues while implementing targeted customer strategies should significantly improve both analytical accuracy and customer relationship management effectiveness.\n",
    "\n",
    "---\n",
    "  \n",
    "*Dataset: UK Online Retail Transactions (2010-2011)*  \n",
    "*Methodology: Exploratory Data Analysis + RFM Customer Segmentation*\n"
   ]
  },
  {
   "cell_type": "code",
   "execution_count": null,
   "id": "52171c6e-3ee6-45f0-afa2-64c1bbc0cd74",
   "metadata": {},
   "outputs": [],
   "source": []
  },
  {
   "cell_type": "code",
   "execution_count": null,
   "id": "9dbaa107-3f52-4f1f-a67c-6e603dac5fd5",
   "metadata": {},
   "outputs": [],
   "source": []
  }
 ],
 "metadata": {
  "kernelspec": {
   "display_name": "Python 3 (ipykernel)",
   "language": "python",
   "name": "python3"
  },
  "language_info": {
   "codemirror_mode": {
    "name": "ipython",
    "version": 3
   },
   "file_extension": ".py",
   "mimetype": "text/x-python",
   "name": "python",
   "nbconvert_exporter": "python",
   "pygments_lexer": "ipython3",
   "version": "3.13.5"
  }
 },
 "nbformat": 4,
 "nbformat_minor": 5
}
